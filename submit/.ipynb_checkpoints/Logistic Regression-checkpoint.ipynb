{
 "cells": [
  {
   "cell_type": "markdown",
   "metadata": {},
   "source": [
    "# Imports"
   ]
  },
  {
   "cell_type": "code",
   "execution_count": 48,
   "metadata": {},
   "outputs": [],
   "source": [
    "import pandas as pd\n",
    "import numpy as np\n",
    "from sklearn.cluster import KMeans\n",
    "from sklearn.model_selection import train_test_split\n",
    "from sklearn.metrics import confusion_matrix,precision_score,recall_score\n",
    "import math\n",
    "from matplotlib import pyplot as plt\n",
    "import seaborn as sns\n",
    "pd.set_option('display.max_columns', 500)"
   ]
  },
  {
   "cell_type": "markdown",
   "metadata": {},
   "source": [
    "# Dataset Selection"
   ]
  },
  {
   "cell_type": "code",
   "execution_count": 81,
   "metadata": {},
   "outputs": [],
   "source": [
    "'''\n",
    "Logistic Regression README:\n",
    "Modes:\n",
    "1. Human Observed Dataset\n",
    "2. GSC\n",
    "Feature Type:\n",
    "a. Feature Concat\n",
    "b. Feature Subs\n",
    "'''\n",
    "mode = 2\n",
    "subMode = 'b'"
   ]
  },
  {
   "cell_type": "markdown",
   "metadata": {},
   "source": [
    "# Functions"
   ]
  },
  {
   "cell_type": "code",
   "execution_count": 82,
   "metadata": {},
   "outputs": [],
   "source": [
    "def create_setting_one(master_data,pos_data):\n",
    "    raw_data_temp = pd.concat([pos_data.set_index('img_id_A'),master_data.set_index('img_id')],axis=1,join='inner').reset_index()\n",
    "    raw_data_feature_concat = pd.concat([raw_data_temp.set_index('img_id_B'),master_data.set_index('img_id')],axis=1,join='inner').reset_index()\n",
    "    if(np.shape(raw_data_feature_concat)[1] < 25):\n",
    "        raw_data_feature_concat.drop(['Unnamed: 0'],axis=1,inplace=True)\n",
    "        num_features = 9 + 1\n",
    "    else:\n",
    "        num_features = 512+1\n",
    "    col_rename = ['img_id_B','img_id_A','target']\n",
    "    for columns in range(1,len(list(raw_data_feature_concat.columns)[3:])+1):\n",
    "        if(columns < num_features):\n",
    "            col_rename.append(\"fa\"+str(columns))\n",
    "        else:\n",
    "            col_rename.append(\"fb\"+str(columns - num_features+1))\n",
    "    raw_data_feature_concat.columns = col_rename\n",
    "    col_rename.append(col_rename.pop(2))\n",
    "    temp = col_rename[0]\n",
    "    col_rename[0] = col_rename[1]\n",
    "    col_rename[1] = temp\n",
    "    raw_data_feature_concat = raw_data_feature_concat[col_rename]\n",
    "    return raw_data_feature_concat\n",
    "\n",
    "def create_setting_two(raw_data_feature_concat):\n",
    "    raw_data_feature_subs = pd.concat([raw_data_feature_concat.iloc[:,0:2],raw_data_feature_concat.iloc[:,-1]],axis=1,join='inner').reset_index()\n",
    "    for columns in range(1,int((len(list(raw_data_feature_concat.columns))-3)/2+1)):\n",
    "        raw_data_feature_subs['fm'+str(columns)] = abs(raw_data_feature_concat['fa'+str(columns)] - raw_data_feature_concat['fb'+str(columns)])\n",
    "    col_swap = list(raw_data_feature_subs.columns)[1:]\n",
    "    col_swap.append(col_swap.pop(2))\n",
    "    raw_data_feature_subs=raw_data_feature_subs[col_swap]\n",
    "    return raw_data_feature_subs\n",
    "\n",
    "def stratifiedSampling(data,seed):\n",
    "    train,test_val = train_test_split(data,test_size = 0.2,stratify=data[[\"target\"]],random_state=seed)\n",
    "    val,test = train_test_split(test_val,test_size = 0.5,stratify=test_val[[\"target\"]],random_state=seed)\n",
    "    return train,test,val\n",
    "\n",
    "def grad_descent(train,target,theta):\n",
    "    prediction = sigmoid_pred(theta,train)\n",
    "    error = j_theta(theta,prediction,target)\n",
    "    right = np.subtract(prediction,target)\n",
    "    new_theta = np.dot(np.transpose(train),right)\n",
    "    return new_theta,error\n",
    "\n",
    "def j_theta(theta,data,target):\n",
    "    # All are NP arrays\n",
    "    prediction = sigmoid_pred(theta,train)\n",
    "    targetTranspose = np.transpose(target)\n",
    "    left = np.dot(targetTranspose,np.log(prediction))\n",
    "    temp = (1-target)\n",
    "    right = np.dot(np.transpose(temp),np.log(1-prediction))\n",
    "    cost = -np.dot((1/len(train)),np.add(left,right))\n",
    "    return cost\n",
    "\n",
    "def sigmoid(x):\n",
    "    temp = np.exp(-x)\n",
    "    return 1/(1+temp)\n",
    "\n",
    "def sigmoid_pred(theta,train):\n",
    "    thetaTranspose = np.transpose(theta)\n",
    "    designMat = np.dot(train,theta)\n",
    "    predict = sigmoid(designMat)\n",
    "    return predict"
   ]
  },
  {
   "cell_type": "markdown",
   "metadata": {},
   "source": [
    "# Data Processing"
   ]
  },
  {
   "cell_type": "code",
   "execution_count": 83,
   "metadata": {},
   "outputs": [],
   "source": [
    "# GSC or HOD??\n",
    "if(mode == 1):\n",
    "    hum_obs_master_data = pd.read_csv(\"~/HumanObserved-Dataset/HumanObserved-Dataset/HumanObserved-Features-Data/HumanObserved-Features-Data.csv\")\n",
    "    hum_obs_pos_data = pd.read_csv(\"~/HumanObserved-Dataset/HumanObserved-Dataset/HumanObserved-Features-Data/same_pairs.csv\")\n",
    "    hum_obs_neg_data = pd.read_csv(\"~/HumanObserved-Dataset/HumanObserved-Dataset/HumanObserved-Features-Data/diffn_pairs.csv\")\n",
    "elif(mode ==2):\n",
    "    gsc_master_data = pd.read_csv(\"~/GSC-Dataset/GSC-Dataset/GSC-Features-Data/GSC-Features.csv\")\n",
    "    gsc_pos_data = pd.read_csv(\"~/GSC-Dataset/GSC-Dataset/GSC-Features-Data/same_pairs.csv\")\n",
    "    gsc_neg_data = pd.read_csv(\"~/GSC-Dataset/GSC-Dataset/GSC-Features-Data/diffn_pairs.csv\")\n",
    "if(mode ==1):\n",
    "    raw_pos_data = create_setting_one(hum_obs_master_data,hum_obs_pos_data)\n",
    "    raw_neg_data = create_setting_one(hum_obs_master_data,hum_obs_neg_data.sample(len(raw_pos_data),random_state = 444))\n",
    "    if(subMode == 'b'):\n",
    "        raw_pos_data = create_setting_two(raw_pos_data)\n",
    "        raw_neg_data = create_setting_two(raw_neg_data)\n",
    "        del hum_obs_master_data,hum_obs_pos_data,hum_obs_neg_data\n",
    "elif(mode == 2):\n",
    "    # High Memory -> NEED TO FIX\n",
    "    raw_pos_data = create_setting_one(gsc_master_data,gsc_pos_data)\n",
    "    raw_neg_data = create_setting_one(gsc_master_data,gsc_neg_data.sample(len(gsc_pos_data)))\n",
    "    if(subMode == 'b'):\n",
    "        raw_pos_data = create_setting_two(raw_pos_data)\n",
    "        raw_neg_data = create_setting_two(raw_neg_data)\n",
    "        del gsc_master_data,gsc_pos_data,gsc_neg_data\n",
    "data = pd.concat([raw_pos_data,raw_neg_data],ignore_index=True)\n",
    "data = data.iloc[:,2:np.shape(data)[1]]"
   ]
  },
  {
   "cell_type": "markdown",
   "metadata": {},
   "source": [
    "# Spliting into Training, Test, and Validation"
   ]
  },
  {
   "cell_type": "code",
   "execution_count": 84,
   "metadata": {},
   "outputs": [],
   "source": [
    "data = data.sample(frac=1,random_state=444)\n",
    "train,test,val = stratifiedSampling(data=data,seed=421)\n",
    "train = train.sample(frac=1,random_state=444).reset_index().iloc[:,1:]\n",
    "train_lab = train.iloc[:,train.columns == 'target']\n",
    "val_lab = val.iloc[:,val.columns == 'target']\n",
    "test_lab = test.iloc[:,test.columns == 'target']\n",
    "train = train.iloc[:,train.columns != 'target']\n",
    "val = val.iloc[:,val.columns != 'target']\n",
    "test = test.iloc[:,test.columns != 'target']"
   ]
  },
  {
   "cell_type": "markdown",
   "metadata": {},
   "source": [
    "# Loading Precomputed Theta when it takes too long to converge"
   ]
  },
  {
   "cell_type": "code",
   "execution_count": 85,
   "metadata": {},
   "outputs": [
    {
     "name": "stdout",
     "output_type": "stream",
     "text": [
      "Stored Accuracy is: 72.57286642902075\n",
      "Stored Precision is: 0.7476234283961974\n",
      "Stored Recall is: 0.6815767402851551\n"
     ]
    }
   ],
   "source": [
    "if(mode == 2 or (mode == 1 and subMode == 'b')):\n",
    "    theta_bk = np.loadtxt(str(mode)+str(subMode)+\".txt\")\n",
    "    conf_mat = confusion_matrix(test_lab,np.around(sigmoid_pred(theta_bk,test),0))\n",
    "    accuracy  = ((conf_mat[0][0]+conf_mat[1][1])/np.sum(conf_mat))*100\n",
    "    print(\"Stored Accuracy is: \"+str(accuracy))\n",
    "    print(\"Stored Precision is: \"+str(precision_score(test_lab,np.around(sigmoid_pred(theta_bk,test),0),average='binary')))\n",
    "    print(\"Stored Recall is: \"+str(recall_score(test_lab,np.around(sigmoid_pred(theta_bk,test),0),average='binary')))\n"
   ]
  },
  {
   "cell_type": "code",
   "execution_count": 65,
   "metadata": {},
   "outputs": [],
   "source": [
    "theta = np.transpose(np.matrix(theta_bk))"
   ]
  },
  {
   "cell_type": "markdown",
   "metadata": {},
   "source": [
    "# Compution of Theta (Non Precomputed)"
   ]
  },
  {
   "cell_type": "code",
   "execution_count": 86,
   "metadata": {},
   "outputs": [
    {
     "name": "stdout",
     "output_type": "stream",
     "text": [
      "[0.69314718]\n",
      "[0.69314718]\n",
      "[[0.68798701]]\n",
      "[[0.68539846]]\n",
      "[[0.68374257]]\n",
      "[[0.68243207]]\n",
      "[[0.68125558]]\n",
      "[[0.68013651]]\n",
      "[[0.6790469]]\n",
      "[[0.67797644]]\n",
      "[[0.67692122]]\n",
      "[[0.67587969]]\n",
      "[[0.67485116]]\n",
      "[[0.67383525]]\n",
      "[[0.67283169]]\n",
      "[[0.67184027]]\n",
      "[[0.6708608]]\n",
      "[[0.66989307]]\n",
      "[[0.66893692]]\n",
      "[[0.66799215]]\n",
      "[[0.6670586]]\n",
      "[[0.66613609]]\n",
      "[[0.66522445]]\n",
      "[[0.6643235]]\n",
      "[[0.6634331]]\n",
      "[[0.66255307]]\n",
      "[[0.66168325]]\n",
      "[[0.6608235]]\n",
      "[[0.65997365]]\n",
      "[[0.65913355]]\n",
      "[[0.65830306]]\n",
      "[[0.65748203]]\n",
      "[[0.65667032]]\n",
      "[[0.65586778]]\n",
      "[[0.65507428]]\n",
      "[[0.65428968]]\n",
      "[[0.65351385]]\n",
      "[[0.65274666]]\n",
      "[[0.65198798]]\n",
      "[[0.65123767]]\n",
      "[[0.65049563]]\n",
      "[[0.64976172]]\n",
      "[[0.64903582]]\n",
      "[[0.64831781]]\n",
      "[[0.64760759]]\n",
      "[[0.64690503]]\n",
      "[[0.64621002]]\n",
      "[[0.64552246]]\n",
      "[[0.64484223]]\n",
      "[[0.64416923]]\n",
      "[[0.64350335]]\n",
      "[[0.6428445]]\n",
      "[[0.64219256]]\n",
      "[[0.64154744]]\n",
      "[[0.64090905]]\n",
      "[[0.64027728]]\n",
      "[[0.63965205]]\n",
      "[[0.63903326]]\n",
      "[[0.63842081]]\n",
      "[[0.63781463]]\n",
      "[[0.63721461]]\n",
      "[[0.63662069]]\n",
      "[[0.63603276]]\n",
      "[[0.63545075]]\n",
      "[[0.63487457]]\n",
      "[[0.63430415]]\n",
      "[[0.6337394]]\n",
      "[[0.63318025]]\n",
      "[[0.63262662]]\n",
      "[[0.63207844]]\n",
      "[[0.63153562]]\n",
      "[[0.6309981]]\n",
      "[[0.63046581]]\n",
      "[[0.62993868]]\n",
      "[[0.62941663]]\n",
      "[[0.6288996]]\n",
      "[[0.62838752]]\n",
      "[[0.62788032]]\n",
      "[[0.62737795]]\n",
      "[[0.62688033]]\n",
      "[[0.62638741]]\n",
      "[[0.62589911]]\n",
      "[[0.6254154]]\n",
      "[[0.62493619]]\n",
      "[[0.62446144]]\n",
      "[[0.62399108]]\n",
      "[[0.62352506]]\n",
      "[[0.62306333]]\n",
      "[[0.62260582]]\n",
      "[[0.62215249]]\n",
      "[[0.62170328]]\n",
      "[[0.62125814]]\n",
      "[[0.62081702]]\n",
      "[[0.62037986]]\n",
      "[[0.61994662]]\n",
      "[[0.61951725]]\n",
      "[[0.6190917]]\n",
      "[[0.61866992]]\n",
      "[[0.61825186]]\n",
      "[[0.61783749]]\n",
      "[[0.61742674]]\n",
      "[[0.61701959]]\n",
      "[[0.61701959]]\n",
      "[[0.61661599]]\n",
      "[[0.61621588]]\n",
      "[[0.61581924]]\n",
      "[[0.61542601]]\n",
      "[[0.61503616]]\n",
      "[[0.61464965]]\n",
      "[[0.61426643]]\n",
      "[[0.61388647]]\n",
      "[[0.61350973]]\n",
      "[[0.61313616]]\n",
      "[[0.61276574]]\n",
      "[[0.61239842]]\n",
      "[[0.61203418]]\n",
      "[[0.61167296]]\n",
      "[[0.61131475]]\n",
      "[[0.61095949]]\n",
      "[[0.61060716]]\n",
      "[[0.61025773]]\n",
      "[[0.60991116]]\n",
      "[[0.60956742]]\n",
      "[[0.60922647]]\n",
      "[[0.60888829]]\n",
      "[[0.60855284]]\n",
      "[[0.60822009]]\n",
      "[[0.60789001]]\n",
      "[[0.60756258]]\n",
      "[[0.60723775]]\n",
      "[[0.60691551]]\n",
      "[[0.60659582]]\n",
      "[[0.60627866]]\n",
      "[[0.60596399]]\n",
      "[[0.6056518]]\n",
      "[[0.60534205]]\n",
      "[[0.60503471]]\n",
      "[[0.60472976]]\n",
      "[[0.60442718]]\n",
      "[[0.60412693]]\n",
      "[[0.603829]]\n",
      "[[0.60353335]]\n",
      "[[0.60323997]]\n",
      "[[0.60294883]]\n",
      "[[0.6026599]]\n",
      "[[0.60237316]]\n",
      "[[0.60208859]]\n",
      "[[0.60180617]]\n",
      "[[0.60152587]]\n",
      "[[0.60124767]]\n",
      "[[0.60097154]]\n",
      "[[0.60069748]]\n",
      "[[0.60042545]]\n",
      "[[0.60015543]]\n",
      "[[0.59988741]]\n",
      "[[0.59962136]]\n",
      "[[0.59935726]]\n",
      "[[0.59909509]]\n",
      "[[0.59883484]]\n",
      "[[0.59857648]]\n",
      "[[0.59832]]\n",
      "[[0.59806537]]\n",
      "[[0.59781257]]\n",
      "[[0.5975616]]\n",
      "[[0.59731242]]\n",
      "[[0.59706502]]\n",
      "[[0.59681939]]\n",
      "[[0.59657551]]\n",
      "[[0.59633335]]\n",
      "[[0.59609291]]\n",
      "[[0.59585416]]\n",
      "[[0.59561709]]\n",
      "[[0.59538168]]\n",
      "[[0.59514792]]\n",
      "[[0.59491578]]\n",
      "[[0.59468526]]\n",
      "[[0.59445634]]\n",
      "[[0.594229]]\n",
      "[[0.59400323]]\n",
      "[[0.59377902]]\n",
      "[[0.59355634]]\n",
      "[[0.59333518]]\n",
      "[[0.59311553]]\n",
      "[[0.59289738]]\n",
      "[[0.5926807]]\n",
      "[[0.59246549]]\n",
      "[[0.59225174]]\n",
      "[[0.59203942]]\n",
      "[[0.59182853]]\n",
      "[[0.59161905]]\n",
      "[[0.59141097]]\n",
      "[[0.59120427]]\n",
      "[[0.59099895]]\n",
      "[[0.59079499]]\n",
      "[[0.59059238]]\n",
      "[[0.5903911]]\n",
      "[[0.59019114]]\n",
      "[[0.5899925]]\n",
      "[[0.58979516]]\n",
      "[[0.5895991]]\n",
      "[[0.58940432]]\n",
      "[[0.58921081]]\n",
      "[[0.58901854]]\n",
      "[[0.58901854]]\n",
      "[[0.58882752]]\n",
      "[[0.58863773]]\n",
      "[[0.58844916]]\n",
      "[[0.5882618]]\n",
      "[[0.58807564]]\n",
      "[[0.58789066]]\n",
      "[[0.58770686]]\n",
      "[[0.58752423]]\n",
      "[[0.58734275]]\n",
      "[[0.58716243]]\n",
      "[[0.58698323]]\n",
      "[[0.58680517]]\n",
      "[[0.58662822]]\n",
      "[[0.58645237]]\n",
      "[[0.58627763]]\n",
      "[[0.58610397]]\n",
      "[[0.58593139]]\n",
      "[[0.58575988]]\n",
      "[[0.58558943]]\n",
      "[[0.58542003]]\n",
      "[[0.58525167]]\n",
      "[[0.58508435]]\n",
      "[[0.58491805]]\n",
      "[[0.58475277]]\n",
      "[[0.58458849]]\n",
      "[[0.58442522]]\n",
      "[[0.58426293]]\n",
      "[[0.58410163]]\n",
      "[[0.5839413]]\n",
      "[[0.58378193]]\n",
      "[[0.58362353]]\n",
      "[[0.58346607]]\n",
      "[[0.58330955]]\n",
      "[[0.58315397]]\n",
      "[[0.58299932]]\n",
      "[[0.58284559]]\n",
      "[[0.58269276]]\n",
      "[[0.58254084]]\n",
      "[[0.58238982]]\n",
      "[[0.58223969]]\n",
      "[[0.58209044]]\n",
      "[[0.58194206]]\n",
      "[[0.58179455]]\n",
      "[[0.58164791]]\n",
      "[[0.58150211]]\n",
      "[[0.58135717]]\n",
      "[[0.58121306]]\n",
      "[[0.58106979]]\n",
      "[[0.58092735]]\n",
      "[[0.58078572]]\n",
      "[[0.58064492]]\n",
      "[[0.58050491]]\n",
      "[[0.58036571]]\n",
      "[[0.58022731]]\n",
      "[[0.58008969]]\n",
      "[[0.57995286]]\n",
      "[[0.5798168]]\n",
      "[[0.57968151]]\n",
      "[[0.57954699]]\n",
      "[[0.57941322]]\n",
      "[[0.57928021]]\n",
      "[[0.57914795]]\n",
      "[[0.57901642]]\n",
      "[[0.57888563]]\n",
      "[[0.57875557]]\n",
      "[[0.57862624]]\n",
      "[[0.57849762]]\n",
      "[[0.57836972]]\n"
     ]
    },
    {
     "ename": "KeyboardInterrupt",
     "evalue": "",
     "output_type": "error",
     "traceback": [
      "\u001b[0;31m---------------------------------------------------------------------------\u001b[0m",
      "\u001b[0;31mKeyboardInterrupt\u001b[0m                         Traceback (most recent call last)",
      "\u001b[0;32m<ipython-input-86-19a5d9ba7fe4>\u001b[0m in \u001b[0;36m<module>\u001b[0;34m()\u001b[0m\n\u001b[1;32m      9\u001b[0m \u001b[0;32mwhile\u001b[0m\u001b[0;34m(\u001b[0m\u001b[0mabs\u001b[0m\u001b[0;34m(\u001b[0m\u001b[0merror\u001b[0m \u001b[0;34m-\u001b[0m \u001b[0mpError\u001b[0m \u001b[0;34m)\u001b[0m \u001b[0;34m>\u001b[0m \u001b[0msensitivity\u001b[0m\u001b[0;34m)\u001b[0m\u001b[0;34m:\u001b[0m\u001b[0;34m\u001b[0m\u001b[0m\n\u001b[1;32m     10\u001b[0m     \u001b[0mpError\u001b[0m \u001b[0;34m=\u001b[0m \u001b[0merror\u001b[0m\u001b[0;34m\u001b[0m\u001b[0m\n\u001b[0;32m---> 11\u001b[0;31m     \u001b[0mntheta\u001b[0m\u001b[0;34m,\u001b[0m\u001b[0merror\u001b[0m \u001b[0;34m=\u001b[0m \u001b[0mgrad_descent\u001b[0m\u001b[0;34m(\u001b[0m\u001b[0mtrain\u001b[0m\u001b[0;34m,\u001b[0m\u001b[0mtrain_lab\u001b[0m\u001b[0;34m,\u001b[0m\u001b[0mtheta\u001b[0m\u001b[0;34m)\u001b[0m\u001b[0;34m\u001b[0m\u001b[0m\n\u001b[0m\u001b[1;32m     12\u001b[0m     \u001b[0mtheta\u001b[0m \u001b[0;34m=\u001b[0m \u001b[0mtheta\u001b[0m \u001b[0;34m-\u001b[0m \u001b[0malpha\u001b[0m\u001b[0;34m*\u001b[0m\u001b[0mnp\u001b[0m\u001b[0;34m.\u001b[0m\u001b[0mmatrix\u001b[0m\u001b[0;34m(\u001b[0m\u001b[0mntheta\u001b[0m \u001b[0;34m+\u001b[0m \u001b[0;34m(\u001b[0m\u001b[0;36m0.5\u001b[0m\u001b[0;34m*\u001b[0m \u001b[0mtheta\u001b[0m\u001b[0;34m)\u001b[0m\u001b[0;34m)\u001b[0m\u001b[0;34m\u001b[0m\u001b[0m\n\u001b[1;32m     13\u001b[0m     \u001b[0mprint\u001b[0m\u001b[0;34m(\u001b[0m\u001b[0merror\u001b[0m\u001b[0;34m.\u001b[0m\u001b[0mravel\u001b[0m\u001b[0;34m(\u001b[0m\u001b[0;34m)\u001b[0m\u001b[0;34m)\u001b[0m\u001b[0;34m\u001b[0m\u001b[0m\n",
      "\u001b[0;32m<ipython-input-82-64e28f8ce94f>\u001b[0m in \u001b[0;36mgrad_descent\u001b[0;34m(train, target, theta)\u001b[0m\n\u001b[1;32m     39\u001b[0m     \u001b[0merror\u001b[0m \u001b[0;34m=\u001b[0m \u001b[0mj_theta\u001b[0m\u001b[0;34m(\u001b[0m\u001b[0mtheta\u001b[0m\u001b[0;34m,\u001b[0m\u001b[0mprediction\u001b[0m\u001b[0;34m,\u001b[0m\u001b[0mtarget\u001b[0m\u001b[0;34m)\u001b[0m\u001b[0;34m\u001b[0m\u001b[0m\n\u001b[1;32m     40\u001b[0m     \u001b[0mright\u001b[0m \u001b[0;34m=\u001b[0m \u001b[0mnp\u001b[0m\u001b[0;34m.\u001b[0m\u001b[0msubtract\u001b[0m\u001b[0;34m(\u001b[0m\u001b[0mprediction\u001b[0m\u001b[0;34m,\u001b[0m\u001b[0mtarget\u001b[0m\u001b[0;34m)\u001b[0m\u001b[0;34m\u001b[0m\u001b[0m\n\u001b[0;32m---> 41\u001b[0;31m     \u001b[0mnew_theta\u001b[0m \u001b[0;34m=\u001b[0m \u001b[0mnp\u001b[0m\u001b[0;34m.\u001b[0m\u001b[0mdot\u001b[0m\u001b[0;34m(\u001b[0m\u001b[0mnp\u001b[0m\u001b[0;34m.\u001b[0m\u001b[0mtranspose\u001b[0m\u001b[0;34m(\u001b[0m\u001b[0mtrain\u001b[0m\u001b[0;34m)\u001b[0m\u001b[0;34m,\u001b[0m\u001b[0mright\u001b[0m\u001b[0;34m)\u001b[0m\u001b[0;34m\u001b[0m\u001b[0m\n\u001b[0m\u001b[1;32m     42\u001b[0m     \u001b[0;32mreturn\u001b[0m \u001b[0mnew_theta\u001b[0m\u001b[0;34m,\u001b[0m\u001b[0merror\u001b[0m\u001b[0;34m\u001b[0m\u001b[0m\n\u001b[1;32m     43\u001b[0m \u001b[0;34m\u001b[0m\u001b[0m\n",
      "\u001b[0;32m/opt/conda/lib/python3.7/site-packages/numpy/matrixlib/defmatrix.py\u001b[0m in \u001b[0;36m__array_finalize__\u001b[0;34m(self, obj)\u001b[0m\n\u001b[1;32m    162\u001b[0m         \u001b[0;32mreturn\u001b[0m \u001b[0mret\u001b[0m\u001b[0;34m\u001b[0m\u001b[0m\n\u001b[1;32m    163\u001b[0m \u001b[0;34m\u001b[0m\u001b[0m\n\u001b[0;32m--> 164\u001b[0;31m     \u001b[0;32mdef\u001b[0m \u001b[0m__array_finalize__\u001b[0m\u001b[0;34m(\u001b[0m\u001b[0mself\u001b[0m\u001b[0;34m,\u001b[0m \u001b[0mobj\u001b[0m\u001b[0;34m)\u001b[0m\u001b[0;34m:\u001b[0m\u001b[0;34m\u001b[0m\u001b[0m\n\u001b[0m\u001b[1;32m    165\u001b[0m         \u001b[0mself\u001b[0m\u001b[0;34m.\u001b[0m\u001b[0m_getitem\u001b[0m \u001b[0;34m=\u001b[0m \u001b[0;32mFalse\u001b[0m\u001b[0;34m\u001b[0m\u001b[0m\n\u001b[1;32m    166\u001b[0m         \u001b[0;32mif\u001b[0m \u001b[0;34m(\u001b[0m\u001b[0misinstance\u001b[0m\u001b[0;34m(\u001b[0m\u001b[0mobj\u001b[0m\u001b[0;34m,\u001b[0m \u001b[0mmatrix\u001b[0m\u001b[0;34m)\u001b[0m \u001b[0;32mand\u001b[0m \u001b[0mobj\u001b[0m\u001b[0;34m.\u001b[0m\u001b[0m_getitem\u001b[0m\u001b[0;34m)\u001b[0m\u001b[0;34m:\u001b[0m \u001b[0;32mreturn\u001b[0m\u001b[0;34m\u001b[0m\u001b[0m\n",
      "\u001b[0;31mKeyboardInterrupt\u001b[0m: "
     ]
    }
   ],
   "source": [
    "sample = str(mode) + str(subMode)+\".txt\"\n",
    "theta = np.zeros((len(train.columns),1))\n",
    "log_error = []\n",
    "alpha = 0.0000003\n",
    "sensitivity = 0.000000001\n",
    "pError = 10\n",
    "error = 0\n",
    "i = 0\n",
    "while(abs(error - pError ) > sensitivity):\n",
    "    pError = error\n",
    "    ntheta,error = grad_descent(train,train_lab,theta)\n",
    "    theta = theta - alpha*np.matrix(ntheta + (0.5* theta))\n",
    "    print(error.ravel())\n",
    "    if(i % 100 == 0):\n",
    "        log_error.append(float(error.ravel()))\n",
    "        print(error.ravel())\n",
    "        #np.savetxt(sample, theta)\n",
    "    i +=1"
   ]
  },
  {
   "cell_type": "markdown",
   "metadata": {},
   "source": [
    "# Graph at each 100th Iteration"
   ]
  },
  {
   "cell_type": "code",
   "execution_count": 87,
   "metadata": {},
   "outputs": [
    {
     "data": {
      "image/png": "[encoded data removed]",
      "text/plain": [
       "<Figure size 720x1080 with 1 Axes>"
      ]
     },
     "metadata": {
      "needs_background": "light"
     },
     "output_type": "display_data"
    }
   ],
   "source": [
    "df = pd.DataFrame(log_error)\n",
    "ax = df.plot(figsize=(10,15))\n",
    "ax.ticklabel_format(useOffset=False)"
   ]
  },
  {
   "cell_type": "markdown",
   "metadata": {},
   "source": [
    "# Accuracy Metrics"
   ]
  },
  {
   "cell_type": "code",
   "execution_count": 88,
   "metadata": {},
   "outputs": [
    {
     "data": {
      "text/plain": [
       "array([[5507, 1646],\n",
       "       [2278, 4876]])"
      ]
     },
     "execution_count": 88,
     "metadata": {},
     "output_type": "execute_result"
    }
   ],
   "source": [
    "conf_mat = confusion_matrix(test_lab,np.around(sigmoid_pred(theta_bk,test),0))\n",
    "conf_mat"
   ]
  },
  {
   "cell_type": "code",
   "execution_count": 89,
   "metadata": {},
   "outputs": [
    {
     "data": {
      "text/plain": [
       "72.57286642902075"
      ]
     },
     "execution_count": 89,
     "metadata": {},
     "output_type": "execute_result"
    }
   ],
   "source": [
    "accuracy  = ((conf_mat[0][0]+conf_mat[1][1])/np.sum(conf_mat))*100\n",
    "accuracy"
   ]
  },
  {
   "cell_type": "code",
   "execution_count": 90,
   "metadata": {},
   "outputs": [
    {
     "data": {
      "text/plain": [
       "0.7542459239130435"
      ]
     },
     "execution_count": 90,
     "metadata": {},
     "output_type": "execute_result"
    }
   ],
   "source": [
    "precision_score(test_lab,np.around(sigmoid_pred(theta,test),0),average='binary')"
   ]
  },
  {
   "cell_type": "code",
   "execution_count": 91,
   "metadata": {},
   "outputs": [
    {
     "data": {
      "text/plain": [
       "0.6207715963097568"
      ]
     },
     "execution_count": 91,
     "metadata": {},
     "output_type": "execute_result"
    }
   ],
   "source": [
    "recall_score(test_lab,np.around(sigmoid_pred(theta,test),0),average='binary')"
   ]
  }
 ],
 "metadata": {
  "kernelspec": {
   "display_name": "Python 3",
   "language": "python",
   "name": "python3"
  },
  "language_info": {
   "codemirror_mode": {
    "name": "ipython",
    "version": 3
   },
   "file_extension": ".py",
   "mimetype": "text/x-python",
   "name": "python",
   "nbconvert_exporter": "python",
   "pygments_lexer": "ipython3",
   "version": "3.7.0"
  }
 },
 "nbformat": 4,
 "nbformat_minor": 2
}
