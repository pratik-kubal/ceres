{
 "cells": [
  {
   "cell_type": "markdown",
   "metadata": {},
   "source": [
    "# Imports"
   ]
  },
  {
   "cell_type": "code",
   "execution_count": null,
   "metadata": {},
   "outputs": [],
   "source": [
    "import pandas as pd\n",
    "import numpy as np\n",
    "from sklearn.cluster import KMeans\n",
    "from sklearn.model_selection import train_test_split\n",
    "from sklearn.metrics import confusion_matrix\n",
    "import math\n",
    "from matplotlib import pyplot as plt\n",
    "import seaborn as sns\n",
    "pd.set_option('display.max_columns', 500)"
   ]
  },
  {
   "cell_type": "markdown",
   "metadata": {},
   "source": [
    "# Dataset Selection"
   ]
  },
  {
   "cell_type": "code",
   "execution_count": 5,
   "metadata": {},
   "outputs": [],
   "source": [
    "'''\n",
    "Linear Regression README:\n",
    "Modes:\n",
    "1. Human Observed Dataset\n",
    "2. GSC\n",
    "Feature Type:\n",
    "a. Feature Concat\n",
    "b. Feature Subs\n",
    "'''\n",
    "mode = 2\n",
    "subMode = 'a'"
   ]
  },
  {
   "cell_type": "markdown",
   "metadata": {},
   "source": [
    "# Functions"
   ]
  },
  {
   "cell_type": "code",
   "execution_count": 52,
   "metadata": {},
   "outputs": [],
   "source": [
    "def create_setting_one(master_data,pos_data):\n",
    "    raw_data_temp = pd.concat([pos_data.set_index('img_id_A'),master_data.set_index('img_id')],axis=1,join='inner').reset_index()\n",
    "    raw_data_feature_concat = pd.concat([raw_data_temp.set_index('img_id_B'),master_data.set_index('img_id')],axis=1,join='inner').reset_index()\n",
    "    if(np.shape(raw_data_feature_concat)[1] < 25):\n",
    "        raw_data_feature_concat.drop(['Unnamed: 0'],axis=1,inplace=True)\n",
    "        num_features = 9 + 1\n",
    "    else:\n",
    "        num_features = 512+1\n",
    "    col_rename = ['img_id_B','img_id_A','target']\n",
    "    for columns in range(1,len(list(raw_data_feature_concat.columns)[3:])+1):\n",
    "        if(columns < num_features):\n",
    "            col_rename.append(\"fa\"+str(columns))\n",
    "        else:\n",
    "            col_rename.append(\"fb\"+str(columns - num_features+1))\n",
    "    raw_data_feature_concat.columns = col_rename\n",
    "    col_rename.append(col_rename.pop(2))\n",
    "    temp = col_rename[0]\n",
    "    col_rename[0] = col_rename[1]\n",
    "    col_rename[1] = temp\n",
    "    raw_data_feature_concat = raw_data_feature_concat[col_rename]\n",
    "    return raw_data_feature_concat\n",
    "\n",
    "def create_setting_two(raw_data_feature_concat):\n",
    "    raw_data_feature_subs = pd.concat([raw_data_feature_concat.iloc[:,0:2],raw_data_feature_concat.iloc[:,-1]],axis=1,join='inner').reset_index()\n",
    "    for columns in range(1,int((len(list(raw_data_feature_concat.columns))-3)/2+1)):\n",
    "        raw_data_feature_subs['fm'+str(columns)] = abs(raw_data_feature_concat['fa'+str(columns)] - raw_data_feature_concat['fb'+str(columns)])\n",
    "    col_swap = list(raw_data_feature_subs.columns)[1:]\n",
    "    col_swap.append(col_swap.pop(2))\n",
    "    raw_data_feature_subs=raw_data_feature_subs[col_swap]\n",
    "    return raw_data_feature_subs\n",
    "\n",
    "def representativeClustering(data,sizeOfTheCluster,seed):\n",
    "    kmeans = KMeans(n_clusters=sizeOfTheCluster, random_state=seed)\n",
    "    kmeans_data = kmeans.fit_predict(data.iloc[:,data.columns != 'target'])\n",
    "    data = data.join(pd.DataFrame(kmeans_data,columns=[\"kmean_cluster_number\"]))\n",
    "    '''\n",
    "    2D stratified sampling on the target value and the cluster number so that the algorithm which we will \n",
    "    implement will have fair chances of learning all types of data.\n",
    "    '''\n",
    "    train,test_val = train_test_split(data,test_size = 0.2,stratify=data[[\"target\",\"kmean_cluster_number\"]],random_state=seed)\n",
    "    val,test = train_test_split(test_val,test_size = 0.5,stratify=test_val[[\"target\",\"kmean_cluster_number\"]],random_state=seed)\n",
    "    '''\n",
    "    Cluster number is not required now\n",
    "    '''\n",
    "    train = train.drop([\"kmean_cluster_number\"],axis=1)\n",
    "    test = test.drop([\"kmean_cluster_number\"],axis=1)\n",
    "    val = val.drop([\"kmean_cluster_number\"],axis=1)\n",
    "\n",
    "    mu = kmeans.cluster_centers_\n",
    "    return train,test,val,mu\n",
    "\n",
    "# Linear Regression Functions Development\n",
    "def covar(trainData,num_basis):\n",
    "    ''' \n",
    "    Getting the covar over the training data based on number of basics we have implemented\n",
    "    Changed the spread for Gaussian radial basis function\n",
    "    '''\n",
    "    #print(\"Using Uniform Gaussian radial basis function\")\n",
    "    train_transpose = np.transpose(trainData)\n",
    "    iden = np.identity(np.shape(train_transpose)[0])\n",
    "    for i in range(0,np.shape(train_transpose)[0]):\n",
    "        # EDIT HERE FOR PRECISION AND NON UNIFORM RADIAL BASICS\n",
    "        iden[i] = np.dot(iden[i],np.dot(200*i,np.var(train_transpose.iloc[i,:])))\n",
    "    return iden\n",
    "\n",
    "def genPhi(train,covarMat,num_basis,mu):\n",
    "    '''\n",
    "    Getting the Phi based on the covariance and number of basis\n",
    "    '''\n",
    "    phiMat = np.zeros((len(train),int(num_basis))) \n",
    "    covarMatInv = np.linalg.pinv(covarMat)\n",
    "    for i in range(0,num_basis):\n",
    "        for j in range(0,len(train)):\n",
    "            subsResult = (np.subtract(train.iloc[j,],mu[i,]))\n",
    "            L = np.dot(np.transpose(subsResult),covarMatInv)\n",
    "            R = np.dot(L,subsResult)\n",
    "            phiMat[j][i] = math.exp(-np.dot(0.5,R))\n",
    "    return phiMat\n",
    "\n",
    "def updateWeights(weights,phiMat,train_lab,alpha,lam): \n",
    "    midT = np.dot(np.transpose(weights),phiMat)\n",
    "    deltaL = -(np.subtract(train_lab,midT))\n",
    "    deltaD = np.dot(float(deltaL),phiMat)\n",
    "    deltaE = np.transpose(np.matrix(deltaD)) + np.dot(lam,weights)\n",
    "\n",
    "    delta = np.dot(-alpha,deltaE)\n",
    "    new_weight = weights + delta\n",
    "    return new_weight\n",
    "\n",
    "def GetValTest(VAL_PHI,W):\n",
    "    Y = np.dot(np.transpose(prev_weight),np.transpose(VAL_PHI))\n",
    "    ##print (\"Test Out Generated..\")\n",
    "    return Y\n",
    "\n",
    "def GetErms(valData,ValDataAct):\n",
    "    sum = 0.0\n",
    "    t=0\n",
    "    accuracy = 0.0\n",
    "    counter = 0\n",
    "    val = 0.0\n",
    "    for i in range (0,len(valData)):\n",
    "        sum = sum + math.pow((ValDataAct[i] - valData[i]),2)\n",
    "        if(int(np.around(valData[i], 0)) == ValDataAct[i]):\n",
    "            counter+=1\n",
    "    accuracy = (float((counter*100))/float(len(valData)))\n",
    "    ##print (\"Accuracy Generated..\")\n",
    "    ##print (\"Validation E_RMS : \" + str(math.sqrt(sum/len(VAL_TEST_OUT))))\n",
    "    return (str(accuracy) + ',' +  str(math.sqrt(sum/len(valData)))),math.sqrt(sum/len(valData))\n",
    "\n",
    "def plotData(log_erms_train,log_erms_val,log_erms_test):\n",
    "    writePlot('log_erms_train',log_erms_train)\n",
    "    writePlot('log_erms_val',log_erms_val)\n",
    "    writePlot('log_erms_test',log_erms_test)\n",
    "    return True\n",
    "\n",
    "def writePlot(filename,log):\n",
    "    df = pd.DataFrame(log)\n",
    "    ax = df.plot(figsize=(10,15))\n",
    "    ax.ticklabel_format(useOffset=False)\n",
    "\n",
    "    plt.show()\n",
    "    plt.close(\"all\")\n",
    "\n",
    "# Generate Heatmap and code to find optimal clusters(Takes very long for GSC therefore commented out)\n",
    "'''Sum_of_squared_distances = []\n",
    "K = range(2,16)\n",
    "for k in K:\n",
    "    #print(k)\n",
    "    km = KMeans(n_clusters=k)\n",
    "    km = km.fit(data.iloc[:,0:len(data.columns)-1])\n",
    "    Sum_of_squared_distances.append(km.inertia_)\n",
    "plt.plot(K, Sum_of_squared_distances, 'bx-')\n",
    "plt.xlabel('k')\n",
    "plt.ylabel('Sum_of_squared_distances')\n",
    "plt.title('Elbow Method For Optimal k')\n",
    "plt.show()\n",
    "# Get The heatmap of corr to determine the clusters\n",
    "sns.heatmap(np.corrcoef(raw_pos_data.iloc[:,2:-1],raw_neg_data.iloc[:,2:-1],rowvar=False))'''\n",
    "\n",
    "def epoch_shuffle(train,train_lab,phiMat):\n",
    "    # Merge\n",
    "    temp = pd.merge(train.reset_index(),pd.DataFrame(train_lab).reset_index())\n",
    "    temp.columns.values[-1] = \"target\"\n",
    "    temp = pd.merge(temp,pd.DataFrame(phiMat).reset_index())\n",
    "    temp = temp.sample(frac=1,random_state=431).reset_index().iloc[:,2:]\n",
    "    if(mode == 1):\n",
    "        if(subMode == 'a'):\n",
    "            num_feat = 18\n",
    "        elif(subMode == 'b'):\n",
    "            num_feat = 9\n",
    "    elif(mode == 2):\n",
    "        if(subMode == 'a'):\n",
    "            num_feat = 512*2\n",
    "        elif(subMode == 'b'):\n",
    "            num_feat = 512\n",
    "    train = temp.iloc[:,0:num_feat]\n",
    "    train_lab = np.asarray(temp.iloc[:,num_feat])\n",
    "    phiMat = np.array(temp.iloc[:,num_feat+1:])\n",
    "    return train,train_lab,phiMat\n"
   ]
  },
  {
   "cell_type": "markdown",
   "metadata": {},
   "source": [
    "# Sampling"
   ]
  },
  {
   "cell_type": "code",
   "execution_count": null,
   "metadata": {},
   "outputs": [],
   "source": [
    "'''\n",
    "Various Setting Generations\n",
    "Oversampling = o\n",
    "Perfect i.e 50-50 from pos-neg = p\n",
    "'''\n",
    "sampling = 'o'"
   ]
  },
  {
   "cell_type": "markdown",
   "metadata": {},
   "source": [
    "# Data Processing"
   ]
  },
  {
   "cell_type": "code",
   "execution_count": 54,
   "metadata": {},
   "outputs": [],
   "source": [
    "# GSC or HOD??\n",
    "if(mode == 1):\n",
    "    hum_obs_master_data = pd.read_csv(\"~/HumanObserved-Dataset/HumanObserved-Dataset/HumanObserved-Features-Data/HumanObserved-Features-Data.csv\")\n",
    "    hum_obs_pos_data = pd.read_csv(\"~/HumanObserved-Dataset/HumanObserved-Dataset/HumanObserved-Features-Data/same_pairs.csv\")\n",
    "    hum_obs_neg_data = pd.read_csv(\"~/HumanObserved-Dataset/HumanObserved-Dataset/HumanObserved-Features-Data/diffn_pairs.csv\")\n",
    "elif(mode ==2):\n",
    "    gsc_master_data = pd.read_csv(\"~/GSC-Dataset/GSC-Dataset/GSC-Features-Data/GSC-Features.csv\")\n",
    "    gsc_pos_data = pd.read_csv(\"~/GSC-Dataset/GSC-Dataset/GSC-Features-Data/same_pairs.csv\")\n",
    "    gsc_neg_data = pd.read_csv(\"~/GSC-Dataset/GSC-Dataset/GSC-Features-Data/diffn_pairs.csv\")\n",
    "if(mode ==1):\n",
    "    raw_pos_data = create_setting_one(hum_obs_master_data,hum_obs_pos_data)\n",
    "    if(sampling == 'o'):\n",
    "        raw_pos_data = raw_pos_data.append(raw_pos_data).reset_index().iloc[:,1:]\n",
    "        raw_neg_data = create_setting_one(hum_obs_master_data,hum_obs_neg_data.sample(len(raw_pos_data),random_state = 444))\n",
    "    if(sampling == 'p'):\n",
    "        raw_neg_data = create_setting_one(hum_obs_master_data,hum_obs_neg_data.sample(len(raw_pos_data),random_state = 444))\n",
    "    if(subMode == 'b'):\n",
    "        raw_pos_data = create_setting_two(raw_pos_data)\n",
    "        raw_neg_data = create_setting_two(raw_neg_data)\n",
    "        del hum_obs_master_data,hum_obs_pos_data,hum_obs_neg_data\n",
    "elif(mode == 2):\n",
    "# High Memory -> NEED TO FIX\n",
    "    raw_pos_data = create_setting_one(gsc_master_data,gsc_pos_data)\n",
    "    if(sampling =='o'):\n",
    "        raw_pos_data.append(raw_pos_data).reset_index().iloc[:,1:]\n",
    "        raw_neg_data = create_setting_one(gsc_master_data,gsc_neg_data.sample(len(raw_pos_data),random_state = 444))\n",
    "    if(sampling == 'p'):\n",
    "        raw_neg_data = create_setting_one(gsc_master_data,gsc_neg_data.sample(len(raw_pos_data),random_state = 444))\n",
    "    if(subMode == 'b'):\n",
    "        raw_pos_data = create_setting_two(raw_pos_data)\n",
    "        raw_neg_data = create_setting_two(raw_neg_data)\n",
    "        del gsc_master_data,gsc_pos_data,gsc_neg_data\n",
    "        \n",
    "data = pd.concat([raw_pos_data,raw_neg_data],ignore_index=True)\n",
    "data = data.iloc[:,2:np.shape(data)[1]]"
   ]
  },
  {
   "cell_type": "markdown",
   "metadata": {},
   "source": [
    "# Clustering"
   ]
  },
  {
   "cell_type": "code",
   "execution_count": 55,
   "metadata": {},
   "outputs": [],
   "source": [
    "M = 5\n",
    "data = data.sample(frac=1)\n",
    "train,test,val,mu = representativeClustering(data=data,sizeOfTheCluster=M,seed=421)\n",
    "train = train.sample(frac=1,random_state=444).reset_index().iloc[:,1:]\n",
    "train_lab = train.iloc[:,train.columns == 'target']\n",
    "val_lab = val.iloc[:,val.columns == 'target']\n",
    "test_lab = test.iloc[:,test.columns == 'target']\n",
    "train = train.iloc[:,train.columns != 'target']\n",
    "val = val.iloc[:,val.columns != 'target']\n",
    "test = test.iloc[:,test.columns != 'target']\n",
    "#print(data.head())"
   ]
  },
  {
   "cell_type": "markdown",
   "metadata": {},
   "source": [
    "# Decision to Normalize the Dataset"
   ]
  },
  {
   "cell_type": "code",
   "execution_count": null,
   "metadata": {},
   "outputs": [],
   "source": [
    "'''\n",
    "Normalize the dataset or not?\n",
    "Default is False\n",
    "'''\n",
    "norm =False\n",
    "if(norm):\n",
    "    from sklearn.preprocessing import StandardScaler\n",
    "    scaler = StandardScaler()\n",
    "    scaler.fit(train)\n",
    "    train = pd.DataFrame(scaler.transform(train),columns=train.columns)\n",
    "    \n",
    "train.sample(5,random_state=444)"
   ]
  },
  {
   "cell_type": "markdown",
   "metadata": {},
   "source": [
    "# Computing Design Matrix and Big Sigma"
   ]
  },
  {
   "cell_type": "code",
   "execution_count": 57,
   "metadata": {},
   "outputs": [],
   "source": [
    "covarMat = covar(train,M)\n",
    "#print(\" Getting the covar over the training data based on number of basics we have implemented\")\n",
    "#covarMat = covar(train,M)\n",
    "phiMat = genPhi(train,covarMat,M,mu)\n",
    "valMat = genPhi(val,covarMat,M,mu)\n",
    "testMat = genPhi(test,covarMat,M,mu)"
   ]
  },
  {
   "cell_type": "markdown",
   "metadata": {},
   "source": [
    "# SGD Linear Regression"
   ]
  },
  {
   "cell_type": "code",
   "execution_count": 58,
   "metadata": {},
   "outputs": [
    {
     "name": "stdout",
     "output_type": "stream",
     "text": [
      "Epoch: 0\n",
      "\n",
      "\n",
      "Epoch: 1\n",
      "50.00043687581368,0.5146287380581157\n",
      "49.99300992590521,0.5146260865515829\n",
      "Epoch: 2\n",
      "50.00043687581368,0.5038509145679902\n",
      "49.99300992590521,0.5038395038340793\n",
      "Epoch: 3\n",
      "50.00043687581368,0.5027905163007097\n",
      "49.99300992590521,0.502777761708893\n",
      "Epoch: 4\n",
      "50.00043687581368,0.5026371698949813\n",
      "49.99300992590521,0.5026241961811907\n",
      "Epoch: 5\n",
      "50.00043687581368,0.5026128188718544\n",
      "49.99300992590521,0.50259980628188\n",
      "Epoch: 6\n",
      "50.00043687581368,0.5026088753309541\n",
      "49.99300992590521,0.5025958535147124\n",
      "Epoch: 7\n",
      "50.00043687581368,0.5026082239335659\n",
      "49.99300992590521,0.5025951981502084\n",
      "Epoch: 8\n",
      "50.00043687581368,0.5026081070216394\n",
      "49.99300992590521,0.502595078512413\n",
      "Epoch: 9\n",
      "50.00043687581368,0.5026080783962359\n",
      "49.99300992590521,0.5025950476907591\n",
      "Epoch: 10\n",
      "50.00043687581368,0.5026080655867181\n",
      "49.99300992590521,0.5025950330475972\n",
      "Epoch: 11\n",
      "50.00043687581368,0.502608056626367\n",
      "49.99300992590521,0.5025950225454947\n",
      "Epoch: 12\n",
      "50.00043687581368,0.5026080493754833\n",
      "49.99300992590521,0.5025950139965174\n",
      "Epoch: 13\n",
      "50.00043687581368,0.5026080433164302\n",
      "49.99300992590521,0.5025950068442321\n",
      "Epoch: 14\n",
      "50.00043687581368,0.5026080382210492\n",
      "49.99300992590521,0.5025950008281084\n",
      "Epoch: 15\n",
      "50.00043687581368,0.5026080339308172\n",
      "49.99300992590521,0.5025949957623981\n",
      "Epoch: 16\n",
      "50.00043687581368,0.5026080303176478\n",
      "49.99300992590521,0.5025949914961001\n",
      "Epoch: 17\n",
      "50.00043687581368,0.5026080272745582\n",
      "49.99300992590521,0.5025949879029219\n",
      "Epoch: 18\n",
      "50.00043687581368,0.5026080247115837\n",
      "49.99300992590521,0.5025949848766356\n",
      "Epoch: 19\n",
      "50.00043687581368,0.5026080225529553\n",
      "49.99300992590521,0.5025949823278038\n",
      "Epoch: 20\n",
      "50.00043687581368,0.5026080207348921\n",
      "49.99300992590521,0.5025949801810946\n",
      "Epoch: 21\n",
      "50.00043687581368,0.5026080192036629\n",
      "49.99300992590521,0.5025949783730668\n",
      "Epoch: 22\n",
      "50.00043687581368,0.5026080179140126\n",
      "49.99300992590521,0.5025949768502901\n",
      "Epoch: 23\n",
      "50.00043687581368,0.5026080168278282\n",
      "49.99300992590521,0.5025949755677535\n",
      "Epoch: 24\n",
      "50.00043687581368,0.5026080159130091\n",
      "49.99300992590521,0.5025949744875627\n",
      "Epoch: 25\n",
      "50.00043687581368,0.502608015142514\n",
      "49.99300992590521,0.5025949735777914\n",
      "Epoch: 26\n",
      "50.00043687581368,0.5026080144935796\n",
      "49.99300992590521,0.5025949728115502\n",
      "Epoch: 27\n",
      "50.00043687581368,0.5026080139470274\n",
      "49.99300992590521,0.5025949721661984\n",
      "Epoch: 28\n",
      "50.00043687581368,0.5026080134867104\n",
      "49.99300992590521,0.5025949716226619\n",
      "Epoch: 29\n",
      "50.00043687581368,0.5026080130990034\n",
      "49.99300992590521,0.5025949711648763\n",
      "Epoch: 30\n",
      "50.00043687581368,0.5026080127724705\n",
      "49.99300992590521,0.5025949707793166\n",
      "Epoch: 31\n",
      "50.00043687581368,0.5026080124974517\n",
      "49.99300992590521,0.5025949704545833\n",
      "Epoch: 32\n",
      "50.00043687581368,0.5026080122658237\n",
      "49.99300992590521,0.502594970181083\n",
      "Epoch: 33\n",
      "50.00043687581368,0.5026080120707417\n",
      "49.99300992590521,0.502594969950734\n",
      "Epoch: 34\n",
      "50.00043687581368,0.5026080119064328\n",
      "49.99300992590521,0.5025949697567231\n",
      "Epoch: 35\n",
      "50.00043687581368,0.5026080117680496\n",
      "49.99300992590521,0.5025949695933231\n",
      "Epoch: 36\n",
      "50.00043687581368,0.5026080116514956\n",
      "49.99300992590521,0.5025949694557007\n",
      "Epoch: 37\n",
      "50.00043687581368,0.5026080115533311\n",
      "49.99300992590521,0.5025949693397925\n",
      "Epoch: 38\n",
      "50.00043687581368,0.5026080114706523\n",
      "49.99300992590521,0.50259496924217\n",
      "Epoch: 39\n",
      "50.00043687581368,0.5026080114010203\n",
      "49.99300992590521,0.5025949691599474\n",
      "Epoch: 40\n",
      "50.00043687581368,0.5026080113423702\n",
      "49.99300992590521,0.5025949690906996\n",
      "Epoch: 41\n",
      "50.00043687581368,0.5026080112929743\n",
      "49.99300992590521,0.5025949690323761\n",
      "Epoch: 42\n",
      "50.00043687581368,0.5026080112513702\n",
      "49.99300992590521,0.5025949689832533\n",
      "Epoch: 43\n",
      "50.00043687581368,0.5026080112163374\n",
      "49.99300992590521,0.5025949689418805\n",
      "Epoch: 44\n",
      "50.00043687581368,0.5026080111868235\n",
      "49.99300992590521,0.5025949689070338\n",
      "Epoch: 45\n",
      "50.00043687581368,0.5026080111619698\n",
      "49.99300992590521,0.5025949688776874\n",
      "Epoch: 46\n",
      "50.00043687581368,0.5026080111410374\n",
      "49.99300992590521,0.5025949688529711\n",
      "Epoch: 47\n",
      "50.00043687581368,0.5026080111234059\n",
      "49.99300992590521,0.5025949688321538\n",
      "Epoch: 48\n",
      "50.00043687581368,0.5026080111085579\n",
      "49.99300992590521,0.5025949688146182\n",
      "Epoch: 49\n",
      "50.00043687581368,0.5026080110960538\n",
      "49.99300992590521,0.5025949687998518\n"
     ]
    },
    {
     "ename": "KeyboardInterrupt",
     "evalue": "",
     "output_type": "error",
     "traceback": [
      "\u001b[0;31m---------------------------------------------------------------------------\u001b[0m",
      "\u001b[0;31mKeyboardInterrupt\u001b[0m                         Traceback (most recent call last)",
      "\u001b[0;32m<ipython-input-58-b825acd089c6>\u001b[0m in \u001b[0;36m<module>\u001b[0;34m()\u001b[0m\n\u001b[1;32m     61\u001b[0m     \u001b[0mTR_TEST_OUT\u001b[0m   \u001b[0;34m=\u001b[0m \u001b[0mGetValTest\u001b[0m\u001b[0;34m(\u001b[0m\u001b[0mphiMat\u001b[0m\u001b[0;34m,\u001b[0m\u001b[0mprev_weight\u001b[0m\u001b[0;34m)\u001b[0m\u001b[0;34m\u001b[0m\u001b[0m\n\u001b[1;32m     62\u001b[0m     \u001b[0mptrain_erms\u001b[0m \u001b[0;34m=\u001b[0m \u001b[0mntrain_erms\u001b[0m\u001b[0;34m\u001b[0m\u001b[0m\n\u001b[0;32m---> 63\u001b[0;31m     \u001b[0mTrainAccString\u001b[0m\u001b[0;34m,\u001b[0m\u001b[0mntrain_erms\u001b[0m       \u001b[0;34m=\u001b[0m \u001b[0mGetErms\u001b[0m\u001b[0;34m(\u001b[0m\u001b[0mnp\u001b[0m\u001b[0;34m.\u001b[0m\u001b[0mtranspose\u001b[0m\u001b[0;34m(\u001b[0m\u001b[0mTR_TEST_OUT\u001b[0m\u001b[0;34m)\u001b[0m\u001b[0;34m,\u001b[0m\u001b[0mnp\u001b[0m\u001b[0;34m.\u001b[0m\u001b[0masarray\u001b[0m\u001b[0;34m(\u001b[0m\u001b[0mtrain_lab\u001b[0m\u001b[0;34m)\u001b[0m\u001b[0;34m)\u001b[0m\u001b[0;34m\u001b[0m\u001b[0m\n\u001b[0m\u001b[1;32m     64\u001b[0m \u001b[0;34m\u001b[0m\u001b[0m\n\u001b[1;32m     65\u001b[0m     \u001b[0mVAL_TEST_OUT\u001b[0m  \u001b[0;34m=\u001b[0m \u001b[0mGetValTest\u001b[0m\u001b[0;34m(\u001b[0m\u001b[0mvalMat\u001b[0m\u001b[0;34m,\u001b[0m\u001b[0mprev_weight\u001b[0m\u001b[0;34m)\u001b[0m\u001b[0;34m\u001b[0m\u001b[0m\n",
      "\u001b[0;32m<ipython-input-52-293bd59d0a24>\u001b[0m in \u001b[0;36mGetErms\u001b[0;34m(valData, ValDataAct)\u001b[0m\n\u001b[1;32m    100\u001b[0m     \u001b[0mval\u001b[0m \u001b[0;34m=\u001b[0m \u001b[0;36m0.0\u001b[0m\u001b[0;34m\u001b[0m\u001b[0m\n\u001b[1;32m    101\u001b[0m     \u001b[0;32mfor\u001b[0m \u001b[0mi\u001b[0m \u001b[0;32min\u001b[0m \u001b[0mrange\u001b[0m \u001b[0;34m(\u001b[0m\u001b[0;36m0\u001b[0m\u001b[0;34m,\u001b[0m\u001b[0mlen\u001b[0m\u001b[0;34m(\u001b[0m\u001b[0mvalData\u001b[0m\u001b[0;34m)\u001b[0m\u001b[0;34m)\u001b[0m\u001b[0;34m:\u001b[0m\u001b[0;34m\u001b[0m\u001b[0m\n\u001b[0;32m--> 102\u001b[0;31m         \u001b[0msum\u001b[0m \u001b[0;34m=\u001b[0m \u001b[0msum\u001b[0m \u001b[0;34m+\u001b[0m \u001b[0mmath\u001b[0m\u001b[0;34m.\u001b[0m\u001b[0mpow\u001b[0m\u001b[0;34m(\u001b[0m\u001b[0;34m(\u001b[0m\u001b[0mValDataAct\u001b[0m\u001b[0;34m[\u001b[0m\u001b[0mi\u001b[0m\u001b[0;34m]\u001b[0m \u001b[0;34m-\u001b[0m \u001b[0mvalData\u001b[0m\u001b[0;34m[\u001b[0m\u001b[0mi\u001b[0m\u001b[0;34m]\u001b[0m\u001b[0;34m)\u001b[0m\u001b[0;34m,\u001b[0m\u001b[0;36m2\u001b[0m\u001b[0;34m)\u001b[0m\u001b[0;34m\u001b[0m\u001b[0m\n\u001b[0m\u001b[1;32m    103\u001b[0m         \u001b[0;32mif\u001b[0m\u001b[0;34m(\u001b[0m\u001b[0mint\u001b[0m\u001b[0;34m(\u001b[0m\u001b[0mnp\u001b[0m\u001b[0;34m.\u001b[0m\u001b[0maround\u001b[0m\u001b[0;34m(\u001b[0m\u001b[0mvalData\u001b[0m\u001b[0;34m[\u001b[0m\u001b[0mi\u001b[0m\u001b[0;34m]\u001b[0m\u001b[0;34m,\u001b[0m \u001b[0;36m0\u001b[0m\u001b[0;34m)\u001b[0m\u001b[0;34m)\u001b[0m \u001b[0;34m==\u001b[0m \u001b[0mValDataAct\u001b[0m\u001b[0;34m[\u001b[0m\u001b[0mi\u001b[0m\u001b[0;34m]\u001b[0m\u001b[0;34m)\u001b[0m\u001b[0;34m:\u001b[0m\u001b[0;34m\u001b[0m\u001b[0m\n\u001b[1;32m    104\u001b[0m             \u001b[0mcounter\u001b[0m\u001b[0;34m+=\u001b[0m\u001b[0;36m1\u001b[0m\u001b[0;34m\u001b[0m\u001b[0m\n",
      "\u001b[0;32m/opt/conda/lib/python3.7/site-packages/numpy/matrixlib/defmatrix.py\u001b[0m in \u001b[0;36m__getitem__\u001b[0;34m(self, index)\u001b[0m\n\u001b[1;32m    188\u001b[0m \u001b[0;34m\u001b[0m\u001b[0m\n\u001b[1;32m    189\u001b[0m         \u001b[0;32mtry\u001b[0m\u001b[0;34m:\u001b[0m\u001b[0;34m\u001b[0m\u001b[0m\n\u001b[0;32m--> 190\u001b[0;31m             \u001b[0mout\u001b[0m \u001b[0;34m=\u001b[0m \u001b[0mN\u001b[0m\u001b[0;34m.\u001b[0m\u001b[0mndarray\u001b[0m\u001b[0;34m.\u001b[0m\u001b[0m__getitem__\u001b[0m\u001b[0;34m(\u001b[0m\u001b[0mself\u001b[0m\u001b[0;34m,\u001b[0m \u001b[0mindex\u001b[0m\u001b[0;34m)\u001b[0m\u001b[0;34m\u001b[0m\u001b[0m\n\u001b[0m\u001b[1;32m    191\u001b[0m         \u001b[0;32mfinally\u001b[0m\u001b[0;34m:\u001b[0m\u001b[0;34m\u001b[0m\u001b[0m\n\u001b[1;32m    192\u001b[0m             \u001b[0mself\u001b[0m\u001b[0;34m.\u001b[0m\u001b[0m_getitem\u001b[0m \u001b[0;34m=\u001b[0m \u001b[0;32mFalse\u001b[0m\u001b[0;34m\u001b[0m\u001b[0m\n",
      "\u001b[0;32m/opt/conda/lib/python3.7/site-packages/numpy/matrixlib/defmatrix.py\u001b[0m in \u001b[0;36m__array_finalize__\u001b[0;34m(self, obj)\u001b[0m\n\u001b[1;32m    163\u001b[0m \u001b[0;34m\u001b[0m\u001b[0m\n\u001b[1;32m    164\u001b[0m     \u001b[0;32mdef\u001b[0m \u001b[0m__array_finalize__\u001b[0m\u001b[0;34m(\u001b[0m\u001b[0mself\u001b[0m\u001b[0;34m,\u001b[0m \u001b[0mobj\u001b[0m\u001b[0;34m)\u001b[0m\u001b[0;34m:\u001b[0m\u001b[0;34m\u001b[0m\u001b[0m\n\u001b[0;32m--> 165\u001b[0;31m         \u001b[0mself\u001b[0m\u001b[0;34m.\u001b[0m\u001b[0m_getitem\u001b[0m \u001b[0;34m=\u001b[0m \u001b[0;32mFalse\u001b[0m\u001b[0;34m\u001b[0m\u001b[0m\n\u001b[0m\u001b[1;32m    166\u001b[0m         \u001b[0;32mif\u001b[0m \u001b[0;34m(\u001b[0m\u001b[0misinstance\u001b[0m\u001b[0;34m(\u001b[0m\u001b[0mobj\u001b[0m\u001b[0;34m,\u001b[0m \u001b[0mmatrix\u001b[0m\u001b[0;34m)\u001b[0m \u001b[0;32mand\u001b[0m \u001b[0mobj\u001b[0m\u001b[0;34m.\u001b[0m\u001b[0m_getitem\u001b[0m\u001b[0;34m)\u001b[0m\u001b[0;34m:\u001b[0m \u001b[0;32mreturn\u001b[0m\u001b[0;34m\u001b[0m\u001b[0m\n\u001b[1;32m    167\u001b[0m         \u001b[0mndim\u001b[0m \u001b[0;34m=\u001b[0m \u001b[0mself\u001b[0m\u001b[0;34m.\u001b[0m\u001b[0mndim\u001b[0m\u001b[0;34m\u001b[0m\u001b[0m\n",
      "\u001b[0;31mKeyboardInterrupt\u001b[0m: "
     ]
    }
   ],
   "source": [
    "'''\n",
    "Appending to a list takes significant amount of time, therefore graph mode has been added and it has\n",
    "been disabled by default\n",
    "'''\n",
    "train_lab = np.asarray(train_lab)\n",
    "log_erms_val = []\n",
    "log_erms_train = []\n",
    "log_erms_test = []\n",
    "np.random.seed(589)\n",
    "if(mode == 2):\n",
    "    if(subMode == 'a'):\n",
    "        prev_weight = np.zeros((M,1))\n",
    "else:\n",
    "    prev_weight = prev_weight = np.zeros((M,1))\n",
    "'''1 B\n",
    "alpha = 0.00003\n",
    "lam = 0.5\n",
    "sensitivity =  0.001\n",
    "'''\n",
    "alpha = 0.000003\n",
    "lam = 0.5\n",
    "sensitivity =  0.00000000000001\n",
    "pErms_Val = 0\n",
    "nErms_Val = 10\n",
    "ptrain_erms = 0\n",
    "ntrain_erms = 10\n",
    "epoch = 0\n",
    "ValAccString = ''\n",
    "TrainAccString = ''\n",
    "'''\n",
    "Logging for ERMS Train and Validate should have graphMode enabled\n",
    "'''\n",
    "\n",
    "graphMode = True\n",
    "\n",
    "while(abs(ntrain_erms - ptrain_erms ) > sensitivity):\n",
    "    print(\"Epoch: \"+str(epoch))\n",
    "    print(TrainAccString)\n",
    "    print(ValAccString)\n",
    "    for i in range(0,len(train)):\n",
    "        #print(\"Iteration: \"+str(i))\n",
    "        prev_weight = updateWeights(prev_weight,phiMat[i],train_lab[i],alpha,lam)\n",
    "        \n",
    "    if(graphMode):\n",
    "        #-----------------TrainingData Accuracy---------------------#\n",
    "        TR_TEST_OUT   = GetValTest(phiMat,prev_weight) \n",
    "        Erms_TR,train_erms       = GetErms(np.transpose(TR_TEST_OUT),np.asarray(train_lab))\n",
    "        log_erms_train.append(float(train_erms))\n",
    "        #print ('---------ValidationData Accuracy: ' + Erms_Val + '--------------')\n",
    "        VAL_TEST_OUT  = GetValTest(valMat,prev_weight) \n",
    "        Erms_Val,val_erms      = GetErms(np.transpose(VAL_TEST_OUT),np.asarray(val_lab))\n",
    "        log_erms_val.append(float(val_erms))\n",
    "\n",
    "        #---------------TestingData Accuracy---------------------#\n",
    "        TEST_OUT      = GetValTest(testMat,prev_weight) \n",
    "        Erms_Test,test_erms = GetErms(np.transpose(TEST_OUT),np.asarray(test_lab))\n",
    "        log_erms_test.append(float(test_erms))\n",
    "            \n",
    "    #train,train_lab,phiMat = epoch_shuffle(train,train_lab,phiMat)\n",
    "    \n",
    "    TR_TEST_OUT   = GetValTest(phiMat,prev_weight)\n",
    "    ptrain_erms = ntrain_erms\n",
    "    TrainAccString,ntrain_erms       = GetErms(np.transpose(TR_TEST_OUT),np.asarray(train_lab))\n",
    "    \n",
    "    VAL_TEST_OUT  = GetValTest(valMat,prev_weight)\n",
    "    pErms_Val = nErms_Val\n",
    "    ValAccString,nErms_Val      = GetErms(np.transpose(VAL_TEST_OUT),np.asarray(val_lab))\n",
    "    epoch +=1\n",
    "    #if(epoch >5):\n",
    "       # pErms_Val = nErms_Val"
   ]
  },
  {
   "cell_type": "code",
   "execution_count": 59,
   "metadata": {},
   "outputs": [
    {
     "data": {
      "image/png": "[encoded data removed]",
      "text/plain": [
       "<Figure size 720x1080 with 1 Axes>"
      ]
     },
     "metadata": {
      "needs_background": "light"
     },
     "output_type": "display_data"
    }
   ],
   "source": [
    "df = pd.DataFrame(log_erms_test)\n",
    "ax = df.plot(figsize=(10,15))\n",
    "ax.ticklabel_format(useOffset=False)"
   ]
  },
  {
   "cell_type": "code",
   "execution_count": 39,
   "metadata": {},
   "outputs": [
    {
     "data": {
      "image/png": "[encoded data removed]",
      "text/plain": [
       "<Figure size 720x1080 with 1 Axes>"
      ]
     },
     "metadata": {
      "needs_background": "light"
     },
     "output_type": "display_data"
    }
   ],
   "source": [
    "df = pd.DataFrame(log_erms_val)\n",
    "ax = df.plot(figsize=(10,15))\n",
    "ax.ticklabel_format(useOffset=False)"
   ]
  },
  {
   "cell_type": "code",
   "execution_count": 40,
   "metadata": {},
   "outputs": [
    {
     "data": {
      "image/png": "[encoded data removed]",
      "text/plain": [
       "<Figure size 720x1080 with 1 Axes>"
      ]
     },
     "metadata": {
      "needs_background": "light"
     },
     "output_type": "display_data"
    }
   ],
   "source": [
    "df = pd.DataFrame(log_erms_train)\n",
    "ax = df.plot(figsize=(10,15))\n",
    "ax.ticklabel_format(useOffset=False)"
   ]
  },
  {
   "cell_type": "code",
   "execution_count": 190,
   "metadata": {},
   "outputs": [],
   "source": [
    "plt.close(\"all\")"
   ]
  },
  {
   "cell_type": "code",
   "execution_count": 60,
   "metadata": {},
   "outputs": [
    {
     "data": {
      "text/plain": [
       "array([[7152,    0],\n",
       "       [7154,    0]])"
      ]
     },
     "execution_count": 60,
     "metadata": {},
     "output_type": "execute_result"
    }
   ],
   "source": [
    "conf_mat = confusion_matrix(val_lab.iloc[:,0],np.array(np.round(VAL_TEST_OUT.reshape(np.shape(VAL_TEST_OUT)[1],1),0)))\n",
    "conf_mat"
   ]
  },
  {
   "cell_type": "code",
   "execution_count": 61,
   "metadata": {},
   "outputs": [
    {
     "data": {
      "text/plain": [
       "49.99300992590521"
      ]
     },
     "execution_count": 61,
     "metadata": {},
     "output_type": "execute_result"
    }
   ],
   "source": [
    "accuracy  = ((conf_mat[0][0]+conf_mat[1][1])/np.sum(conf_mat))*100\n",
    "accuracy"
   ]
  },
  {
   "cell_type": "code",
   "execution_count": null,
   "metadata": {},
   "outputs": [],
   "source": []
  }
 ],
 "metadata": {
  "kernelspec": {
   "display_name": "Python 3",
   "language": "python",
   "name": "python3"
  },
  "language_info": {
   "codemirror_mode": {
    "name": "ipython",
    "version": 3
   },
   "file_extension": ".py",
   "mimetype": "text/x-python",
   "name": "python",
   "nbconvert_exporter": "python",
   "pygments_lexer": "ipython3",
   "version": "3.7.0"
  }
 },
 "nbformat": 4,
 "nbformat_minor": 2
}
