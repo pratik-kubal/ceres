{
 "cells": [
  {
   "cell_type": "code",
   "execution_count": 1,
   "metadata": {},
   "outputs": [],
   "source": [
    "# Imports\n",
    "import pandas as pd\n",
    "pd.set_option('display.max_columns', 500)"
   ]
  },
  {
   "cell_type": "code",
   "execution_count": 2,
   "metadata": {},
   "outputs": [],
   "source": [
    "master_data = pd.read_csv(\"../HumanObserved-Dataset/HumanObserved-Features-Data/HumanObserved-Features-Data.csv\")\n",
    "pos_data = pd.read_csv(\"../HumanObserved-Dataset/HumanObserved-Features-Data/same_pairs.csv\")"
   ]
  },
  {
   "cell_type": "code",
   "execution_count": 3,
   "metadata": {},
   "outputs": [],
   "source": [
    "def create_setting_one(master_data,pos_data):\n",
    "    raw_data_temp = pd.concat([pos_data.set_index('img_id_A'),master_data.set_index('img_id')],axis=1,join='inner').reset_index()\n",
    "    raw_data_feature_concat = pd.concat([raw_data_temp.set_index('img_id_B'),master_data.set_index('img_id')],axis=1,join='inner').reset_index()\n",
    "    raw_data_feature_concat.drop(['Unnamed: 0'],axis=1,inplace=True)\n",
    "    col_rename = ['img_id_B','img_id_A','target']\n",
    "    for columns in range(1,len(list(raw_data_feature_concat.columns)[3:])+1):\n",
    "        if(columns < 10):\n",
    "            col_rename.append(\"fa\"+str(columns))\n",
    "        else:\n",
    "            col_rename.append(\"fb\"+str(columns - 9))\n",
    "    raw_data_feature_concat.columns = col_rename\n",
    "    col_rename.append(col_rename.pop(2))\n",
    "    temp = col_rename[0]\n",
    "    col_rename[0] = col_rename[1]\n",
    "    col_rename[1] = temp\n",
    "    raw_data_feature_concat = raw_data_feature_concat[col_rename]\n",
    "    return raw_data_feature_concat\n",
    "\n",
    "def create_setting_two(raw_data_feature_concat):\n",
    "    raw_data_feature_subs = raw_data_feature_concat.copy()\n",
    "    for columns in range(1,int((len(list(raw_data_feature_subs.columns))-3)/2+1)):\n",
    "        raw_data_feature_subs['fm'+str(columns)] = abs(raw_data_feature_subs['fa'+str(columns)] - raw_data_feature_subs['fb'+str(columns)])\n",
    "        raw_data_feature_subs.drop('fa'+str(columns),axis=1,inplace=True)\n",
    "        raw_data_feature_subs.drop('fb'+str(columns),axis=1,inplace=True)\n",
    "    col_swap = list(raw_data_feature_subs.columns)\n",
    "    col_swap.append(col_swap.pop(2))\n",
    "    raw_data_feature_subs=raw_data_feature_subs[col_swap]\n",
    "    return raw_data_feature_subs"
   ]
  },
  {
   "cell_type": "code",
   "execution_count": 4,
   "metadata": {},
   "outputs": [],
   "source": [
    "raw_data_feature_concat = create_setting_one(master_data,pos_data)\n",
    "raw_data_feature_subs = create_setting_two(raw_data_feature_concat)"
   ]
  }
 ],
 "metadata": {
  "kernelspec": {
   "display_name": "Python 3",
   "language": "python",
   "name": "python3"
  },
  "language_info": {
   "codemirror_mode": {
    "name": "ipython",
    "version": 3
   },
   "file_extension": ".py",
   "mimetype": "text/x-python",
   "name": "python",
   "nbconvert_exporter": "python",
   "pygments_lexer": "ipython3",
   "version": "3.6.6"
  }
 },
 "nbformat": 4,
 "nbformat_minor": 2
}
