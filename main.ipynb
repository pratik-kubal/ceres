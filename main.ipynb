{
 "cells": [
  {
   "cell_type": "code",
   "execution_count": 1,
   "metadata": {
    "collapsed": true
   },
   "outputs": [],
   "source": [
    "# Imports\n",
    "import pandas as pd\n",
    "import numpy as np\n",
    "from sklearn.cluster import KMeans\n",
    "from sklearn.model_selection import train_test_split\n",
    "from sklearn.metrics import confusion_matrix\n",
    "import math\n",
    "from matplotlib import pyplot as plt\n",
    "import seaborn as sns\n",
    "pd.set_option('display.max_columns', 500)"
   ]
  },
  {
   "cell_type": "code",
   "execution_count": 2,
   "metadata": {
    "collapsed": true
   },
   "outputs": [],
   "source": [
    "'''\n",
    "Linear Regression README:\n",
    "Modes:\n",
    "1. Human Observed Dataset\n",
    "2. GSC\n",
    "Feature Type:\n",
    "a. Feature Concat\n",
    "b. Feature Subs\n",
    "'''\n",
    "mode = 1\n",
    "subMode = 'b'"
   ]
  },
  {
   "cell_type": "code",
   "execution_count": 3,
   "metadata": {
    "collapsed": true
   },
   "outputs": [],
   "source": [
    "# GSC or HOD??\n",
    "if(mode == 1):\n",
    "    hum_obs_master_data = pd.read_csv(\"../HumanObserved-Dataset/HumanObserved-Dataset/HumanObserved-Features-Data/HumanObserved-Features-Data.csv\")\n",
    "    hum_obs_pos_data = pd.read_csv(\"../HumanObserved-Dataset/HumanObserved-Dataset/HumanObserved-Features-Data/same_pairs.csv\")\n",
    "    hum_obs_neg_data = pd.read_csv(\"../HumanObserved-Dataset/HumanObserved-Dataset/HumanObserved-Features-Data/diffn_pairs.csv\")\n",
    "elif(mode ==2):\n",
    "    gsc_master_data = pd.read_csv(\"../GSC-Dataset/GSC-Dataset/GSC-Features-Data/GSC-Features.csv\")\n",
    "    gsc_pos_data = pd.read_csv(\"../GSC-Dataset/GSC-Dataset/GSC-Features-Data/same_pairs.csv\")\n",
    "    gsc_neg_data = pd.read_csv(\"../GSC-Dataset/GSC-Dataset/GSC-Features-Data/diffn_pairs.csv\")\n",
    "    "
   ]
  },
  {
   "cell_type": "code",
   "execution_count": 4,
   "metadata": {
    "collapsed": true
   },
   "outputs": [],
   "source": [
    "def create_setting_one(master_data,pos_data):\n",
    "    raw_data_temp = pd.concat([pos_data.set_index('img_id_A'),master_data.set_index('img_id')],axis=1,join='inner').reset_index()\n",
    "    raw_data_feature_concat = pd.concat([raw_data_temp.set_index('img_id_B'),master_data.set_index('img_id')],axis=1,join='inner').reset_index()\n",
    "    if(np.shape(raw_data_feature_concat)[1] < 25):\n",
    "        raw_data_feature_concat.drop(['Unnamed: 0'],axis=1,inplace=True)\n",
    "        num_features = 9 + 1\n",
    "    else:\n",
    "        num_features = 512+1\n",
    "    col_rename = ['img_id_B','img_id_A','target']\n",
    "    for columns in range(1,len(list(raw_data_feature_concat.columns)[3:])+1):\n",
    "        if(columns < num_features):\n",
    "            col_rename.append(\"fa\"+str(columns))\n",
    "        else:\n",
    "            col_rename.append(\"fb\"+str(columns - num_features+1))\n",
    "    raw_data_feature_concat.columns = col_rename\n",
    "    col_rename.append(col_rename.pop(2))\n",
    "    temp = col_rename[0]\n",
    "    col_rename[0] = col_rename[1]\n",
    "    col_rename[1] = temp\n",
    "    raw_data_feature_concat = raw_data_feature_concat[col_rename]\n",
    "    return raw_data_feature_concat\n",
    "\n",
    "def create_setting_two(raw_data_feature_concat):\n",
    "    raw_data_feature_subs = pd.concat([raw_data_feature_concat.iloc[:,0:2],raw_data_feature_concat.iloc[:,-1]],axis=1,join='inner').reset_index()\n",
    "    for columns in range(1,int((len(list(raw_data_feature_concat.columns))-3)/2+1)):\n",
    "        raw_data_feature_subs['fm'+str(columns)] = abs(raw_data_feature_concat['fa'+str(columns)] - raw_data_feature_concat['fb'+str(columns)])\n",
    "    col_swap = list(raw_data_feature_subs.columns)[1:]\n",
    "    col_swap.append(col_swap.pop(2))\n",
    "    raw_data_feature_subs=raw_data_feature_subs[col_swap]\n",
    "    return raw_data_feature_subs\n",
    "\n",
    "def representativeClustering(data,sizeOfTheCluster,seed):\n",
    "    kmeans = KMeans(n_clusters=sizeOfTheCluster, random_state=seed)\n",
    "    kmeans_data = kmeans.fit_predict(data.iloc[:,data.columns != 'target'])\n",
    "    data = data.join(pd.DataFrame(kmeans_data,columns=[\"kmean_cluster_number\"]))\n",
    "    '''\n",
    "    2D stratified sampling on the target value and the cluster number so that the algorithm which we will \n",
    "    implement will have fair chances of learning all types of data.\n",
    "    '''\n",
    "    train,test_val = train_test_split(data,test_size = 0.2,stratify=data[[\"target\",\"kmean_cluster_number\"]],random_state=seed)\n",
    "    val,test = train_test_split(test_val,test_size = 0.5,stratify=test_val[[\"target\",\"kmean_cluster_number\"]],random_state=seed)\n",
    "    '''\n",
    "    Cluster number is not required now\n",
    "    '''\n",
    "    train = train.drop([\"kmean_cluster_number\"],axis=1)\n",
    "    test = test.drop([\"kmean_cluster_number\"],axis=1)\n",
    "    val = val.drop([\"kmean_cluster_number\"],axis=1)\n",
    "\n",
    "    mu = kmeans.cluster_centers_\n",
    "    return train,test,val,mu\n",
    "\n",
    "# Linear Regression Functions Development\n",
    "def covar(trainData,num_basis):\n",
    "    ''' \n",
    "    Getting the covar over the training data based on number of basics we have implemented\n",
    "    Changed the spread for Gaussian radial basis function\n",
    "    '''\n",
    "    #print(\"Using Uniform Gaussian radial basis function\")\n",
    "    train_transpose = np.transpose(trainData)\n",
    "    iden = np.identity(np.shape(train_transpose)[0])\n",
    "    for i in range(0,np.shape(train_transpose)[0]):\n",
    "        # EDIT HERE FOR PRECISION AND NON UNIFORM RADIAL BASICS\n",
    "        iden[i] = np.dot(iden[i],np.dot(2.5,np.var(train_transpose.iloc[i,:])))\n",
    "    return iden\n",
    "\n",
    "def genPhi(train,covarMat,num_basis,mu):\n",
    "    '''\n",
    "    Getting the Phi based on the covariance and number of basis\n",
    "    '''\n",
    "    phiMat = np.zeros((len(train),int(num_basis))) \n",
    "    covarMatInv = np.linalg.pinv(covarMat)\n",
    "    for i in range(0,num_basis):\n",
    "        for j in range(0,len(train)):\n",
    "            subsResult = (np.subtract(train.iloc[j,],mu[i,]))\n",
    "            L = np.dot(np.transpose(subsResult),covarMatInv)\n",
    "            R = np.dot(L,subsResult)\n",
    "            phiMat[j][i] = math.exp(-np.dot(0.5,R))\n",
    "    return phiMat\n",
    "\n",
    "def updateWeights(weights,phiMat,train_lab,alpha,lam): \n",
    "    midT = np.dot(np.transpose(weights),phiMat)\n",
    "    deltaL = -(np.subtract(train_lab,midT))\n",
    "    deltaD = np.dot(float(deltaL),phiMat)\n",
    "    deltaE = np.transpose(np.matrix(deltaD)) + np.dot(lam,weights)\n",
    "\n",
    "    delta = np.dot(-alpha,deltaE)\n",
    "    new_weight = weights + delta\n",
    "    return new_weight\n",
    "\n",
    "def GetValTest(VAL_PHI,W):\n",
    "    Y = np.dot(np.transpose(prev_weight),np.transpose(VAL_PHI))\n",
    "    ##print (\"Test Out Generated..\")\n",
    "    return Y\n",
    "\n",
    "def GetErms(valData,ValDataAct):\n",
    "    sum = 0.0\n",
    "    t=0\n",
    "    accuracy = 0.0\n",
    "    counter = 0\n",
    "    val = 0.0\n",
    "    for i in range (0,len(valData)):\n",
    "        sum = sum + math.pow((ValDataAct[i] - valData[i]),2)\n",
    "        if(int(np.around(valData[i], 0)) == ValDataAct[i]):\n",
    "            counter+=1\n",
    "    accuracy = (float((counter*100))/float(len(valData)))\n",
    "    ##print (\"Accuracy Generated..\")\n",
    "    ##print (\"Validation E_RMS : \" + str(math.sqrt(sum/len(VAL_TEST_OUT))))\n",
    "    return (str(accuracy) + ',' +  str(math.sqrt(sum/len(valData)))),math.sqrt(sum/len(valData))\n",
    "\n",
    "def plotData(log_erms_train,log_erms_val,log_erms_test):\n",
    "    writePlot('log_erms_train',log_erms_train)\n",
    "    writePlot('log_erms_val',log_erms_val)\n",
    "    writePlot('log_erms_test',log_erms_test)\n",
    "    return True\n",
    "\n",
    "def writePlot(filename,log):\n",
    "    df = pd.DataFrame(log)\n",
    "    ax = df.plot(figsize=(10,15))\n",
    "    ax.ticklabel_format(useOffset=False)\n",
    "\n",
    "    plt.savefig(('./'+filename+'.png'),bbox_inches='tight')\n",
    "    plt.close(\"all\")\n",
    "    \n",
    "def epoch_shuffle(train,train_lab,phiMat):\n",
    "    # Merge\n",
    "    temp = pd.merge(train.reset_index(),pd.DataFrame(train_lab).reset_index())\n",
    "    temp.columns.values[-1] = \"target\"\n",
    "    temp = pd.merge(temp,pd.DataFrame(phiMat).reset_index())\n",
    "    temp = temp.sample(frac=1,random_state=431).reset_index().iloc[:,2:]\n",
    "    if(mode == 1):\n",
    "        if(subMode == 'a'):\n",
    "            num_feat = 18\n",
    "        elif(subMode == 'b'):\n",
    "            num_feat = 9\n",
    "    elif(mode == 2):\n",
    "        if(subMode == 'a'):\n",
    "            num_feat = 512*2\n",
    "        elif(subMode == 'b'):\n",
    "            num_feat = 512\n",
    "    train = temp.iloc[:,0:num_feat]\n",
    "    train_lab = np.asarray(temp.iloc[:,num_feat])\n",
    "    phiMat = np.array(temp.iloc[:,num_feat+1:])\n",
    "    return train,train_lab,phiMat\n"
   ]
  },
  {
   "cell_type": "code",
   "execution_count": 5,
   "metadata": {
    "collapsed": true
   },
   "outputs": [],
   "source": [
    "if(mode ==1):\n",
    "    raw_pos_data = create_setting_one(hum_obs_master_data,hum_obs_pos_data)\n",
    "    raw_neg_data = create_setting_one(hum_obs_master_data,hum_obs_neg_data.sample(len(raw_pos_data),random_state = 444))\n",
    "    if(subMode == 'b'):\n",
    "        raw_pos_data = create_setting_two(raw_pos_data)\n",
    "        raw_neg_data = create_setting_two(raw_neg_data)\n",
    "        del hum_obs_master_data,hum_obs_pos_data,hum_obs_neg_data\n",
    "elif(mode == 2):\n",
    "    # High Memory -> NEED TO FIX\n",
    "    raw_pos_data = create_setting_one(gsc_master_data,gsc_pos_data)\n",
    "    raw_neg_data = create_setting_one(gsc_master_data,gsc_neg_data.sample(len(gsc_pos_data)))\n",
    "    if(subMode == 'b'):\n",
    "        raw_pos_data = create_setting_two(raw_pos_data)\n",
    "        raw_neg_data = create_setting_two(raw_neg_data)\n",
    "        del gsc_master_data,gsc_pos_data,gsc_neg_data"
   ]
  },
  {
   "cell_type": "code",
   "execution_count": 6,
   "metadata": {
    "collapsed": true,
    "scrolled": true
   },
   "outputs": [],
   "source": [
    "'''\n",
    "Various Setting Generations\n",
    "Oversampling = o\n",
    "Undersampling = u\n",
    "Perfect = p\n",
    "'''\n",
    "sampling = 'o'"
   ]
  },
  {
   "cell_type": "code",
   "execution_count": 7,
   "metadata": {
    "collapsed": true
   },
   "outputs": [],
   "source": [
    "'''\n",
    "Partition Scheme\n",
    "unseenWriter = true\n",
    "default = false\n",
    "'''\n",
    "partScheme = False\n",
    "if(partScheme):\n",
    "    # Unseen Writer partitions\n",
    "    raw_data_feature_concat_pos[['A','A_imgNo']] = raw_data_feature_concat_pos['img_id_A'].str.extract('(\\d\\d\\d\\d)([a-z])', expand=False)\n",
    "    raw_data_feature_concat_pos[['B','B_imgNo']] = raw_data_feature_concat_pos['img_id_B'].str.extract('(\\d\\d\\d\\d)([a-z])', expand=False)\n",
    "    #raw_data_feature_concat['img_id_A'].str.extract('(?P<writerA>\\d\\d\\d\\d)(?P<imageNo>[abcd])', expand=False)\n",
    "    raw_data_feature_concat_neg[['A','A_imgNo']] = raw_data_feature_concat_neg['img_id_A'].str.extract('(\\d\\d\\d\\d)([a-z])', expand=False)\n",
    "    raw_data_feature_concat_neg[['B','B_imgNo']] = raw_data_feature_concat_neg['img_id_B'].str.extract('(\\d\\d\\d\\d)([a-z])', expand=False)\n",
    "    data = pd.concat([raw_pos_data,raw_neg_data],ignore_index=True)\n",
    "else:\n",
    "    data = pd.concat([raw_pos_data,raw_neg_data],ignore_index=True)\n",
    "data = data.iloc[:,2:np.shape(data)[1]]\n",
    "    "
   ]
  },
  {
   "cell_type": "code",
   "execution_count": 153,
   "metadata": {},
   "outputs": [
    {
     "data": {
      "text/plain": [
       "<matplotlib.axes._subplots.AxesSubplot at 0x7f9155b8b5f8>"
      ]
     },
     "execution_count": 153,
     "metadata": {},
     "output_type": "execute_result"
    },
    {
     "data": {
      "image/png": "[encoded data removed]",
      "text/plain": [
       "<Figure size 432x288 with 2 Axes>"
      ]
     },
     "metadata": {
      "needs_background": "light"
     },
     "output_type": "display_data"
    }
   ],
   "source": [
    "# Get The heatmap of corr to determine the clusters\n",
    "sns.heatmap(np.corrcoef(raw_pos_data.iloc[:,2:-1],raw_neg_data.iloc[:,2:-1],rowvar=False))"
   ]
  },
  {
   "cell_type": "code",
   "execution_count": 9,
   "metadata": {
    "collapsed": true
   },
   "outputs": [],
   "source": [
    "if(mode == 2):\n",
    "    if(subMode == 'a'):\n",
    "        M = 9\n",
    "else:\n",
    "    M = 9\n",
    "data = data.sample(frac=1)\n",
    "train,test,val,mu = representativeClustering(data=data,sizeOfTheCluster=M,seed=421)\n",
    "if(sampling == 'o'):\n",
    "    pos = train[train['target'] == 1]\n",
    "    neg = train[train['target'] == 0]\n",
    "    train_pos = pd.concat([pos,pos,pos,pos,pos],ignore_index=True)\n",
    "    train_neg = neg.sample(n=len(pos))\n",
    "    train = pd.concat([train_pos,train_neg])\n",
    "    del pos,neg,train_pos,train_neg\n",
    "train = train.sample(frac=1,random_state=444).reset_index().iloc[:,1:]\n",
    "train_lab = train.iloc[:,train.columns == 'target']\n",
    "val_lab = val.iloc[:,val.columns == 'target']\n",
    "test_lab = test.iloc[:,test.columns == 'target']\n",
    "train = train.iloc[:,train.columns != 'target']\n",
    "val = val.iloc[:,val.columns != 'target']\n",
    "test = val.iloc[:,test.columns != 'target']\n",
    "#print(data.head())"
   ]
  },
  {
   "cell_type": "code",
   "execution_count": 10,
   "metadata": {
    "collapsed": true
   },
   "outputs": [],
   "source": [
    "covarMat = covar(train,M)"
   ]
  },
  {
   "cell_type": "code",
   "execution_count": 11,
   "metadata": {
    "collapsed": true
   },
   "outputs": [],
   "source": [
    "#print(\" Getting the covar over the training data based on number of basics we have implemented\")\n",
    "#covarMat = covar(train,M)\n",
    "phiMat = genPhi(train,covarMat,M,mu)\n",
    "valMat = genPhi(val,covarMat,M,mu)\n",
    "testMat = genPhi(test,covarMat,M,mu)"
   ]
  },
  {
   "cell_type": "code",
   "execution_count": 12,
   "metadata": {},
   "outputs": [
    {
     "data": {
      "text/plain": [
       "matrix([[0.3887621 ],\n",
       "        [0.01547099],\n",
       "        [0.94718274],\n",
       "        [0.33959462],\n",
       "        [0.78467214],\n",
       "        [0.94637165],\n",
       "        [0.95105546],\n",
       "        [0.63413822],\n",
       "        [0.82586132]])"
      ]
     },
     "execution_count": 12,
     "metadata": {},
     "output_type": "execute_result"
    }
   ],
   "source": [
    "np.random.seed(1994)\n",
    "if(mode == 2):\n",
    "    if(subMode == 'a'):\n",
    "        prev_weight = np.zeros((M,1))\n",
    "else:\n",
    "    prev_weight = np.matrix(np.random.rand(M,1))\n",
    "prev_weight"
   ]
  },
  {
   "cell_type": "code",
   "execution_count": 13,
   "metadata": {
    "collapsed": true
   },
   "outputs": [],
   "source": [
    "def batchUpdateWeights(weights,phiMat,train_lab,alpha,lam): \n",
    "    midT = np.dot(phiMat,weights)\n",
    "    deltaL = -(np.subtract(train_lab,midT))\n",
    "    deltaD = np.dot(np.transpose(deltaL),phiMat)\n",
    "    deltaE = np.transpose(deltaD) + np.dot(lam,prev_weight)\n",
    "\n",
    "    delta = np.dot(-alpha,deltaE)\n",
    "    new_weight = weights + delta\n",
    "    return new_weight"
   ]
  },
  {
   "cell_type": "code",
   "execution_count": null,
   "metadata": {
    "collapsed": true
   },
   "outputs": [],
   "source": [
    "batchUpdateWeights(prev_weight,phiMat,pd.DataFrame(train_lab),alpha,lam)"
   ]
  },
  {
   "cell_type": "code",
   "execution_count": null,
   "metadata": {
    "collapsed": true
   },
   "outputs": [],
   "source": [
    "alpha = 0.001\n",
    "lam = 0.005\n",
    "if(mode == 2):\n",
    "    if(subMode == 'a'):\n",
    "        nprev_weight = np.zeros((M,1))\n",
    "else:\n",
    "    nprev_weight = np.matrix(np.random.rand(M,1))\n",
    "    \n",
    "while((np.subtract(prev_weight,prev_weight) == np.zeros((M,1))).all()):\n",
    "    prev_weight = nprev_weight\n",
    "    nprev_weight = batchUpdateWeights(prev_weight,phiMat,pd.DataFrame(train_lab),alpha,lam) \n"
   ]
  },
  {
   "cell_type": "code",
   "execution_count": 16,
   "metadata": {},
   "outputs": [
    {
     "data": {
      "text/plain": [
       "('55.69620253164557,0.5810537335457874', 0.5810537335457874)"
      ]
     },
     "execution_count": 16,
     "metadata": {},
     "output_type": "execute_result"
    }
   ],
   "source": [
    "VAL_TEST_OUT  = GetValTest(valMat,prev_weight) \n",
    "GetErms(np.transpose(VAL_TEST_OUT),np.asarray(val_lab))"
   ]
  },
  {
   "cell_type": "code",
   "execution_count": null,
   "metadata": {
    "collapsed": true,
    "scrolled": true
   },
   "outputs": [],
   "source": [
    "train_lab = np.asarray(train_lab)\n",
    "log_erms_val = np.zeros(300000)\n",
    "log_erms_train = np.zeros(300000)\n",
    "log_erms_test = []\n",
    "np.random.seed(589)\n",
    "if(mode == 2):\n",
    "    if(subMode == 'a'):\n",
    "        prev_weight = np.zeros((M,1))\n",
    "else:\n",
    "    prev_weight = np.matrix(np.random.rand(M,1))\n",
    "'''1 B\n",
    "alpha = 0.00003\n",
    "lam = 0.5\n",
    "sensitivity =  0.001\n",
    "'''\n",
    "alpha = 0.05\n",
    "lam = 0.05\n",
    "sensitivity =  0.001\n",
    "pErms_Val = 0\n",
    "nErms_Val = 10\n",
    "ptrain_erms = 0\n",
    "ntrain_erms = 10\n",
    "epoch = 0\n",
    "ValAccString = ''\n",
    "TrainAccString = ''\n",
    "'''\n",
    "Logging for ERMS Train and Validate should have graphMode enabled\n",
    "'''\n",
    "\n",
    "graphMode = False\n",
    "\n",
    "while(abs(ntrain_erms - ptrain_erms ) > sensitivity):\n",
    "    print(\"Epoch: \"+str(epoch))\n",
    "    print(TrainAccString)\n",
    "    print(ValAccString)\n",
    "    for i in range(0,len(train)):\n",
    "        #print(\"Iteration: \"+str(i))\n",
    "        prev_weight = updateWeights(prev_weight,phiMat[i],train_lab[i],alpha,lam)\n",
    "        #-----------------TrainingData Accuracy---------------------#\n",
    "        #TR_TEST_OUT   = GetValTest(phiMat,prev_weight) \n",
    "        #Erms_TR,train_erms       = GetErms(np.transpose(TR_TEST_OUT),np.asarray(train_lab))\n",
    "        #print ('---------ValidationData Accuracy: ' + Erms_Val + '--------------')\n",
    "        #VAL_TEST_OUT  = GetValTest(valMat,prev_weight) \n",
    "        #Erms_Val,val_erms      = GetErms(np.transpose(VAL_TEST_OUT),np.asarray(val_lab))\n",
    "        \n",
    "        \n",
    "        #---------------TestingData Accuracy---------------------#\n",
    "        #TEST_OUT      = GetValTest(testMat,prev_weight) \n",
    "        #Erms_Test = GetErms(np.transpose(TEST_OUT),np.asarray(test_lab))\n",
    "        #log_erms_test.append(float(Erms_Test.split(',')[1]))\n",
    "        if(graphMode):\n",
    "            log_erms_train[i] = train_erms\n",
    "            log_erms_val[i] = val_erms\n",
    "            \n",
    "    train,train_lab,phiMat = epoch_shuffle(train,train_lab,phiMat)\n",
    "    \n",
    "    TR_TEST_OUT   = GetValTest(phiMat,prev_weight)\n",
    "    ptrain_erms = ntrain_erms\n",
    "    TrainAccString,ntrain_erms       = GetErms(np.transpose(TR_TEST_OUT),np.asarray(train_lab))\n",
    "    \n",
    "    VAL_TEST_OUT  = GetValTest(valMat,prev_weight)\n",
    "    pErms_Val = nErms_Val\n",
    "    ValAccString,nErms_Val      = GetErms(np.transpose(VAL_TEST_OUT),np.asarray(val_lab))\n",
    "    epoch +=1\n",
    "    #if(epoch >5):\n",
    "       # pErms_Val = nErms_Val"
   ]
  },
  {
   "cell_type": "code",
   "execution_count": null,
   "metadata": {
    "collapsed": true
   },
   "outputs": [],
   "source": [
    "plotData(log_erms_train,log_erms_val,log_erms_test)"
   ]
  },
  {
   "cell_type": "code",
   "execution_count": 58,
   "metadata": {},
   "outputs": [
    {
     "data": {
      "text/plain": [
       "array([[45, 33],\n",
       "       [37, 43]])"
      ]
     },
     "execution_count": 58,
     "metadata": {},
     "output_type": "execute_result"
    }
   ],
   "source": [
    "confusion_matrix(val_lab.iloc[:,0],np.array(np.round(VAL_TEST_OUT.reshape(np.shape(VAL_TEST_OUT)[1],1),0)))"
   ]
  },
  {
   "cell_type": "code",
   "execution_count": 59,
   "metadata": {},
   "outputs": [
    {
     "data": {
      "text/html": [
       "<div>\n",
       "<style scoped>\n",
       "    .dataframe tbody tr th:only-of-type {\n",
       "        vertical-align: middle;\n",
       "    }\n",
       "\n",
       "    .dataframe tbody tr th {\n",
       "        vertical-align: top;\n",
       "    }\n",
       "\n",
       "    .dataframe thead th {\n",
       "        text-align: right;\n",
       "    }\n",
       "</style>\n",
       "<table border=\"1\" class=\"dataframe\">\n",
       "  <thead>\n",
       "    <tr style=\"text-align: right;\">\n",
       "      <th>Predicted</th>\n",
       "      <th>0.0</th>\n",
       "      <th>1.0</th>\n",
       "      <th>All</th>\n",
       "    </tr>\n",
       "    <tr>\n",
       "      <th>True</th>\n",
       "      <th></th>\n",
       "      <th></th>\n",
       "      <th></th>\n",
       "    </tr>\n",
       "  </thead>\n",
       "  <tbody>\n",
       "    <tr>\n",
       "      <th>0</th>\n",
       "      <td>45</td>\n",
       "      <td>33</td>\n",
       "      <td>78</td>\n",
       "    </tr>\n",
       "    <tr>\n",
       "      <th>1</th>\n",
       "      <td>37</td>\n",
       "      <td>43</td>\n",
       "      <td>80</td>\n",
       "    </tr>\n",
       "    <tr>\n",
       "      <th>All</th>\n",
       "      <td>82</td>\n",
       "      <td>76</td>\n",
       "      <td>158</td>\n",
       "    </tr>\n",
       "  </tbody>\n",
       "</table>\n",
       "</div>"
      ],
      "text/plain": [
       "Predicted  0.0  1.0  All\n",
       "True                    \n",
       "0           45   33   78\n",
       "1           37   43   80\n",
       "All         82   76  158"
      ]
     },
     "execution_count": 59,
     "metadata": {},
     "output_type": "execute_result"
    }
   ],
   "source": [
    "y_true = pd.Series(np.array(val_lab.iloc[:,0]))\n",
    "y_pred = pd.Series(np.array((np.around(VAL_TEST_OUT, 0))).ravel())\n",
    "\n",
    "pd.crosstab(y_true, y_pred, rownames=['True'], colnames=['Predicted'], margins=True)"
   ]
  },
  {
   "cell_type": "code",
   "execution_count": 60,
   "metadata": {},
   "outputs": [
    {
     "data": {
      "text/html": [
       "<div>\n",
       "<style scoped>\n",
       "    .dataframe tbody tr th:only-of-type {\n",
       "        vertical-align: middle;\n",
       "    }\n",
       "\n",
       "    .dataframe tbody tr th {\n",
       "        vertical-align: top;\n",
       "    }\n",
       "\n",
       "    .dataframe thead th {\n",
       "        text-align: right;\n",
       "    }\n",
       "</style>\n",
       "<table border=\"1\" class=\"dataframe\">\n",
       "  <thead>\n",
       "    <tr style=\"text-align: right;\">\n",
       "      <th>Predicted</th>\n",
       "      <th>0.0</th>\n",
       "      <th>1.0</th>\n",
       "      <th>All</th>\n",
       "    </tr>\n",
       "    <tr>\n",
       "      <th>True</th>\n",
       "      <th></th>\n",
       "      <th></th>\n",
       "      <th></th>\n",
       "    </tr>\n",
       "  </thead>\n",
       "  <tbody>\n",
       "    <tr>\n",
       "      <th>0</th>\n",
       "      <td>39</td>\n",
       "      <td>41</td>\n",
       "      <td>80</td>\n",
       "    </tr>\n",
       "    <tr>\n",
       "      <th>1</th>\n",
       "      <td>31</td>\n",
       "      <td>48</td>\n",
       "      <td>79</td>\n",
       "    </tr>\n",
       "    <tr>\n",
       "      <th>All</th>\n",
       "      <td>70</td>\n",
       "      <td>89</td>\n",
       "      <td>159</td>\n",
       "    </tr>\n",
       "  </tbody>\n",
       "</table>\n",
       "</div>"
      ],
      "text/plain": [
       "Predicted  0.0  1.0  All\n",
       "True                    \n",
       "0           39   41   80\n",
       "1           31   48   79\n",
       "All         70   89  159"
      ]
     },
     "execution_count": 60,
     "metadata": {},
     "output_type": "execute_result"
    }
   ],
   "source": [
    "y_true = pd.Series(np.array(test_lab.iloc[:,0]))\n",
    "y_pred = pd.Series(np.array((np.around(TR_TEST_OUT, 0))).ravel())\n",
    "\n",
    "pd.crosstab(y_true, y_pred, rownames=['True'], colnames=['Predicted'], margins=True)"
   ]
  },
  {
   "cell_type": "code",
   "execution_count": null,
   "metadata": {
    "collapsed": true
   },
   "outputs": [],
   "source": []
  }
 ],
 "metadata": {
  "kernelspec": {
   "display_name": "Python 3",
   "language": "python",
   "name": "python3"
  },
  "language_info": {
   "codemirror_mode": {
    "name": "ipython",
    "version": 3
   },
   "file_extension": ".py",
   "mimetype": "text/x-python",
   "name": "python",
   "nbconvert_exporter": "python",
   "pygments_lexer": "ipython3",
   "version": "3.6.3"
  }
 },
 "nbformat": 4,
 "nbformat_minor": 2
}
