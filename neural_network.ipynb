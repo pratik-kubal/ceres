{
 "cells": [
  {
   "cell_type": "code",
   "execution_count": 1,
   "metadata": {},
   "outputs": [
    {
     "name": "stderr",
     "output_type": "stream",
     "text": [
      "/home/ubuntu/anaconda3/lib/python3.6/site-packages/h5py/__init__.py:36: FutureWarning: Conversion of the second argument of issubdtype from `float` to `np.floating` is deprecated. In future, it will be treated as `np.float64 == np.dtype(float).type`.\n",
      "  from ._conv import register_converters as _register_converters\n",
      "Using TensorFlow backend.\n"
     ]
    }
   ],
   "source": [
    "from numpy.random import seed\n",
    "seed(111)\n",
    "    \n",
    "from tensorflow import set_random_seed\n",
    "set_random_seed(125)\n",
    "\n",
    "from keras.models import Sequential\n",
    "from keras.layers import Dense, Activation, Dropout\n",
    "from keras.callbacks import EarlyStopping, TensorBoard\n",
    "from keras.utils import np_utils\n",
    "import keras\n",
    "import numpy as np\n",
    "import pandas as pd\n",
    "from sklearn.model_selection import train_test_split\n",
    "from keras.utils import to_categorical\n",
    "from sklearn.metrics import confusion_matrix"
   ]
  },
  {
   "cell_type": "code",
   "execution_count": 45,
   "metadata": {},
   "outputs": [],
   "source": [
    "'''\n",
    "Linear Regression README:\n",
    "Modes:\n",
    "1. Human Observed Dataset\n",
    "2. GSC\n",
    "Feature Type:\n",
    "a. Feature Concat\n",
    "b. Feature Subs\n",
    "'''\n",
    "mode = 1\n",
    "subMode = 'a'"
   ]
  },
  {
   "cell_type": "code",
   "execution_count": 46,
   "metadata": {},
   "outputs": [],
   "source": [
    "def create_setting_one(master_data,pos_data):\n",
    "    raw_data_temp = pd.concat([pos_data.set_index('img_id_A'),master_data.set_index('img_id')],axis=1,join='inner').reset_index()\n",
    "    raw_data_feature_concat = pd.concat([raw_data_temp.set_index('img_id_B'),master_data.set_index('img_id')],axis=1,join='inner').reset_index()\n",
    "    if(np.shape(raw_data_feature_concat)[1] < 25):\n",
    "        raw_data_feature_concat.drop(['Unnamed: 0'],axis=1,inplace=True)\n",
    "        num_features = 9 + 1\n",
    "    else:\n",
    "        num_features = 512+1\n",
    "    col_rename = ['img_id_B','img_id_A','target']\n",
    "    for columns in range(1,len(list(raw_data_feature_concat.columns)[3:])+1):\n",
    "        if(columns < num_features):\n",
    "            col_rename.append(\"fa\"+str(columns))\n",
    "        else:\n",
    "            col_rename.append(\"fb\"+str(columns - num_features+1))\n",
    "    raw_data_feature_concat.columns = col_rename\n",
    "    col_rename.append(col_rename.pop(2))\n",
    "    temp = col_rename[0]\n",
    "    col_rename[0] = col_rename[1]\n",
    "    col_rename[1] = temp\n",
    "    raw_data_feature_concat = raw_data_feature_concat[col_rename]\n",
    "    return raw_data_feature_concat\n",
    "\n",
    "def create_setting_two(raw_data_feature_concat):\n",
    "    raw_data_feature_subs = pd.concat([raw_data_feature_concat.iloc[:,0:2],raw_data_feature_concat.iloc[:,-1]],axis=1,join='inner').reset_index()\n",
    "    for columns in range(1,int((len(list(raw_data_feature_concat.columns))-3)/2+1)):\n",
    "        raw_data_feature_subs['fm'+str(columns)] = abs(raw_data_feature_concat['fa'+str(columns)] - raw_data_feature_concat['fb'+str(columns)])\n",
    "    col_swap = list(raw_data_feature_subs.columns)[1:]\n",
    "    col_swap.append(col_swap.pop(2))\n",
    "    raw_data_feature_subs=raw_data_feature_subs[col_swap]\n",
    "    return raw_data_feature_subs\n",
    "\n",
    "def stratifiedSampling(data,test_split,seed):\n",
    "    train,test = train_test_split(data,test_size = test_split,stratify=data[[\"target\"]],random_state=seed)\n",
    "    return train,test\n",
    "\n",
    "def data_selection(mode,subMode):\n",
    "    # GSC or HOD??\n",
    "    if(mode == 1):\n",
    "        hum_obs_master_data = pd.read_csv(\"../HumanObserved-Dataset/HumanObserved-Dataset/HumanObserved-Features-Data/HumanObserved-Features-Data.csv\")\n",
    "        hum_obs_pos_data = pd.read_csv(\"../HumanObserved-Dataset/HumanObserved-Dataset/HumanObserved-Features-Data/same_pairs.csv\")\n",
    "        hum_obs_neg_data = pd.read_csv(\"../HumanObserved-Dataset/HumanObserved-Dataset/HumanObserved-Features-Data/diffn_pairs.csv\")\n",
    "        raw_pos_data = create_setting_one(hum_obs_master_data,hum_obs_pos_data)\n",
    "        raw_neg_data = create_setting_one(hum_obs_master_data,hum_obs_neg_data.sample(len(hum_obs_pos_data),random_state=444))\n",
    "        if(subMode == 'b'):\n",
    "            raw_pos_data = create_setting_two(raw_pos_data)\n",
    "            raw_neg_data = create_setting_two(raw_neg_data)\n",
    "            del hum_obs_master_data,hum_obs_pos_data,hum_obs_neg_data\n",
    "    elif(mode ==2):\n",
    "        gsc_master_data = pd.read_csv(\"../GSC-Dataset/GSC-Dataset/GSC-Features-Data/GSC-Features.csv\")\n",
    "        gsc_pos_data = pd.read_csv(\"../GSC-Dataset/GSC-Dataset/GSC-Features-Data/same_pairs.csv\")\n",
    "        gsc_neg_data = pd.read_csv(\"../GSC-Dataset/GSC-Dataset/GSC-Features-Data/diffn_pairs.csv\")\n",
    "                # High Memory -> NEED TO FIX\n",
    "        raw_pos_data = create_setting_one(gsc_master_data,gsc_pos_data)\n",
    "        raw_neg_data = create_setting_one(gsc_master_data,gsc_neg_data.sample(len(gsc_pos_data),random_state=444))\n",
    "        if(subMode == 'b'):\n",
    "            raw_pos_data = create_setting_two(raw_pos_data)\n",
    "            raw_neg_data = create_setting_two(raw_neg_data)\n",
    "            del gsc_master_data,gsc_pos_data,gsc_neg_data\n",
    "    '''\n",
    "    Partition Scheme\n",
    "    unseenWriter = true\n",
    "    default = false\n",
    "    '''\n",
    "    partScheme = False\n",
    "    if(partScheme):\n",
    "        # Unseen Writer partitions\n",
    "        raw_data_feature_concat_pos[['A','A_imgNo']] = raw_data_feature_concat_pos['img_id_A'].str.extract('(\\d\\d\\d\\d)([a-z])', expand=False)\n",
    "        raw_data_feature_concat_pos[['B','B_imgNo']] = raw_data_feature_concat_pos['img_id_B'].str.extract('(\\d\\d\\d\\d)([a-z])', expand=False)\n",
    "        #raw_data_feature_concat['img_id_A'].str.extract('(?P<writerA>\\d\\d\\d\\d)(?P<imageNo>[abcd])', expand=False)\n",
    "        raw_data_feature_concat_neg[['A','A_imgNo']] = raw_data_feature_concat_neg['img_id_A'].str.extract('(\\d\\d\\d\\d)([a-z])', expand=False)\n",
    "        raw_data_feature_concat_neg[['B','B_imgNo']] = raw_data_feature_concat_neg['img_id_B'].str.extract('(\\d\\d\\d\\d)([a-z])', expand=False)\n",
    "        data = pd.concat([raw_pos_data,raw_neg_data],ignore_index=True)\n",
    "    else:\n",
    "        data = pd.concat([raw_pos_data,raw_neg_data],ignore_index=True)\n",
    "    data = data.iloc[:,2:np.shape(data)[1]]\n",
    "    \n",
    "    data = data.sample(frac=1,random_state=44)\n",
    "    \n",
    "    if(mode == 1):\n",
    "        train,test = stratifiedSampling(data,0.05,444)\n",
    "    elif(mode == 2):\n",
    "        train,test = stratifiedSampling(data,0.1,444)\n",
    "    \n",
    "    return train,test"
   ]
  },
  {
   "cell_type": "code",
   "execution_count": 47,
   "metadata": {},
   "outputs": [],
   "source": [
    "train,test = data_selection(mode,subMode)"
   ]
  },
  {
   "cell_type": "code",
   "execution_count": 49,
   "metadata": {},
   "outputs": [
    {
     "name": "stdout",
     "output_type": "stream",
     "text": [
      "_________________________________________________________________\n",
      "Layer (type)                 Output Shape              Param #   \n",
      "=================================================================\n",
      "dense_38 (Dense)             (None, 1024)              19456     \n",
      "_________________________________________________________________\n",
      "activation_38 (Activation)   (None, 1024)              0         \n",
      "_________________________________________________________________\n",
      "dropout_11 (Dropout)         (None, 1024)              0         \n",
      "_________________________________________________________________\n",
      "dense_39 (Dense)             (None, 32)                32800     \n",
      "_________________________________________________________________\n",
      "activation_39 (Activation)   (None, 32)                0         \n",
      "_________________________________________________________________\n",
      "dense_40 (Dense)             (None, 2)                 66        \n",
      "_________________________________________________________________\n",
      "activation_40 (Activation)   (None, 2)                 0         \n",
      "=================================================================\n",
      "Total params: 52,322\n",
      "Trainable params: 52,322\n",
      "Non-trainable params: 0\n",
      "_________________________________________________________________\n"
     ]
    }
   ],
   "source": [
    "def two_layer():\n",
    "    input_size = len(train.columns)-1\n",
    "    drop_out = 0.3\n",
    "    first_dense_layer_nodes  = 1024\n",
    "    second_dense_layer_nodes = 32\n",
    "    final_dense_layer_nodes = 2\n",
    "    model = Sequential()\n",
    "    \n",
    "    model.add(Dense(first_dense_layer_nodes, input_dim=input_size))\n",
    "    model.add(Activation('relu'))\n",
    "    \n",
    "    model.add(Dropout(drop_out))\n",
    "    \n",
    "    model.add(Dense(second_dense_layer_nodes, input_dim=input_size))\n",
    "    model.add(Activation('relu'))\n",
    "    \n",
    "    model.add(Dense(final_dense_layer_nodes))\n",
    "    model.add(Activation('softmax'))\n",
    "\n",
    "    \n",
    "    model.summary()\n",
    "    \n",
    "    \n",
    "    model.compile(loss='binary_crossentropy', optimizer=\"adam\",metrics=['binary_accuracy'])\n",
    "    \n",
    "    return model\n",
    "\n",
    "def three_layer():\n",
    "    input_size = len(train.columns)-1\n",
    "    drop_out = 0.2\n",
    "    first_dense_layer_nodes  = 1024\n",
    "    second_dense_layer_nodes = 512\n",
    "    third_dense_layer_nodes = 128\n",
    "    final_dense_layer_nodes = 2\n",
    "    model = Sequential()\n",
    "    \n",
    "    model.add(Dense(first_dense_layer_nodes, input_dim=input_size))\n",
    "    model.add(Activation('relu'))\n",
    "    \n",
    "    model.add(Dropout(drop_out))\n",
    "    \n",
    "    model.add(Dense(second_dense_layer_nodes, input_dim=input_size))\n",
    "    model.add(Activation('relu'))\n",
    "    \n",
    "    model.add(Dense(third_dense_layer_nodes, input_dim=input_size))\n",
    "    model.add(Activation('relu'))\n",
    "    \n",
    "    model.add(Dense(final_dense_layer_nodes))\n",
    "    model.add(Activation('softmax'))\n",
    "\n",
    "    \n",
    "    model.summary()\n",
    "    \n",
    "    \n",
    "    model.compile(loss='binary_crossentropy', optimizer=\"adam\",metrics=['binary_accuracy'])\n",
    "    \n",
    "    return model\n",
    "\n",
    "\n",
    "model = two_layer()"
   ]
  },
  {
   "cell_type": "code",
   "execution_count": 51,
   "metadata": {},
   "outputs": [
    {
     "name": "stdout",
     "output_type": "stream",
     "text": [
      "Train on 1351 samples, validate on 151 samples\n",
      "Epoch 1/10000\n",
      "1351/1351 [==============================] - 1s 625us/step - loss: 0.7219 - binary_accuracy: 0.4893 - val_loss: 0.6892 - val_binary_accuracy: 0.5695\n",
      "Epoch 2/10000\n",
      "1351/1351 [==============================] - 0s 77us/step - loss: 0.6942 - binary_accuracy: 0.5041 - val_loss: 0.6926 - val_binary_accuracy: 0.5033\n",
      "Epoch 3/10000\n",
      "1351/1351 [==============================] - 0s 77us/step - loss: 0.6922 - binary_accuracy: 0.5174 - val_loss: 0.6909 - val_binary_accuracy: 0.5563\n",
      "Epoch 4/10000\n",
      "1351/1351 [==============================] - 0s 74us/step - loss: 0.6881 - binary_accuracy: 0.5537 - val_loss: 0.6913 - val_binary_accuracy: 0.5364\n",
      "Epoch 5/10000\n",
      "1351/1351 [==============================] - 0s 75us/step - loss: 0.6859 - binary_accuracy: 0.5440 - val_loss: 0.6913 - val_binary_accuracy: 0.5563\n",
      "Epoch 6/10000\n",
      "1351/1351 [==============================] - 0s 77us/step - loss: 0.6878 - binary_accuracy: 0.5485 - val_loss: 0.6818 - val_binary_accuracy: 0.5762\n",
      "Epoch 7/10000\n",
      "1351/1351 [==============================] - 0s 76us/step - loss: 0.6874 - binary_accuracy: 0.5381 - val_loss: 0.7016 - val_binary_accuracy: 0.4636\n",
      "Epoch 8/10000\n",
      "1351/1351 [==============================] - 0s 75us/step - loss: 0.6833 - binary_accuracy: 0.5736 - val_loss: 0.6970 - val_binary_accuracy: 0.5364\n",
      "Epoch 9/10000\n",
      "1351/1351 [==============================] - 0s 76us/step - loss: 0.6839 - binary_accuracy: 0.5551 - val_loss: 0.6858 - val_binary_accuracy: 0.5430\n",
      "Epoch 10/10000\n",
      "1351/1351 [==============================] - 0s 74us/step - loss: 0.6779 - binary_accuracy: 0.5714 - val_loss: 0.7009 - val_binary_accuracy: 0.5298\n",
      "Epoch 11/10000\n",
      "1351/1351 [==============================] - 0s 73us/step - loss: 0.6796 - binary_accuracy: 0.5781 - val_loss: 0.6931 - val_binary_accuracy: 0.5430\n",
      "Epoch 00011: early stopping\n"
     ]
    }
   ],
   "source": [
    "validation_data_split = 0.1\n",
    "num_epochs = 10000\n",
    "if(mode == 2):\n",
    "    model_batch_size = 256\n",
    "else:\n",
    "    model_batch_size = 32\n",
    "early_patience = 10\n",
    "\n",
    "earlystopping_cb = EarlyStopping(monitor='binary_accuracy', verbose=1, patience=early_patience, mode='min')\n",
    "\n",
    "# Process Dataset\n",
    "model_hist = model.fit(train.iloc[:,0:len(train.columns)-1]\n",
    "                    , to_categorical(train.iloc[:,len(train.columns)-1:])\n",
    "                    , validation_split=validation_data_split\n",
    "                    , epochs=num_epochs\n",
    "                    , batch_size=model_batch_size\n",
    "                    , callbacks = [earlystopping_cb]\n",
    "                   )"
   ]
  },
  {
   "cell_type": "code",
   "execution_count": 39,
   "metadata": {},
   "outputs": [
    {
     "name": "stdout",
     "output_type": "stream",
     "text": [
      "Average Categorical Accuracy Before Early Stopping: 0.9213334599058427\n",
      "Average Validation Accuracy Before Early Stopping: 0.8491379310307796\n"
     ]
    }
   ],
   "source": [
    "print(\"Average Categorical Accuracy Before Early Stopping: \"+ str( np.mean(model_hist.history['binary_accuracy'][-early_patience:])))\n",
    "print(\"Average Validation Accuracy Before Early Stopping: \"+ str(np.mean(model_hist.history['val_binary_accuracy'][-early_patience:])))"
   ]
  },
  {
   "cell_type": "code",
   "execution_count": 30,
   "metadata": {},
   "outputs": [
    {
     "name": "stderr",
     "output_type": "stream",
     "text": [
      "/home/ubuntu/anaconda3/lib/python3.6/site-packages/matplotlib/font_manager.py:278: UserWarning: Matplotlib is building the font cache using fc-list. This may take a moment.\n",
      "  'Matplotlib is building the font cache using fc-list. '\n"
     ]
    },
    {
     "data": {
      "text/plain": [
       "array([<matplotlib.axes._subplots.AxesSubplot object at 0x7fd0cb6de7b8>,\n",
       "       <matplotlib.axes._subplots.AxesSubplot object at 0x7fd0cb6b4c50>,\n",
       "       <matplotlib.axes._subplots.AxesSubplot object at 0x7fd0cb667208>,\n",
       "       <matplotlib.axes._subplots.AxesSubplot object at 0x7fd0cb611780>],\n",
       "      dtype=object)"
      ]
     },
     "execution_count": 30,
     "metadata": {},
     "output_type": "execute_result"
    },
    {
     "data": {
      "image/png": "[encoded data removed]",
      "text/plain": [
       "<Figure size 720x1080 with 4 Axes>"
      ]
     },
     "metadata": {},
     "output_type": "display_data"
    }
   ],
   "source": [
    "%matplotlib inline\n",
    "df = pd.DataFrame(model_hist.history)\n",
    "df.plot(subplots=True, grid=True, figsize=(10,15))\n"
   ]
  },
  {
   "cell_type": "code",
   "execution_count": 31,
   "metadata": {},
   "outputs": [],
   "source": [
    "y = model.predict(np.array(test.iloc[:,0:len(test.columns)-1]))\n",
    "predicted = np.around(y,0)"
   ]
  },
  {
   "cell_type": "code",
   "execution_count": 32,
   "metadata": {},
   "outputs": [
    {
     "data": {
      "text/plain": [
       "array([[6737,  416],\n",
       "       [ 530, 6624]])"
      ]
     },
     "execution_count": 32,
     "metadata": {},
     "output_type": "execute_result"
    }
   ],
   "source": [
    "confusion_matrix(to_categorical(test['target'].values).argmax(axis=1), predicted.argmax(axis=1))"
   ]
  },
  {
   "cell_type": "code",
   "execution_count": 24,
   "metadata": {},
   "outputs": [
    {
     "data": {
      "text/plain": [
       "array([[63955,   423],\n",
       "       [  429, 63948]])"
      ]
     },
     "execution_count": 24,
     "metadata": {},
     "output_type": "execute_result"
    }
   ],
   "source": [
    "y = model.predict(np.array(train.iloc[:,0:len(train.columns)-1]))\n",
    "predicted = np.around(y,0)\n",
    "confusion_matrix(to_categorical(train['target'].values).argmax(axis=1), predicted.argmax(axis=1))"
   ]
  }
 ],
 "metadata": {
  "kernelspec": {
   "display_name": "Python 3",
   "language": "python",
   "name": "python3"
  },
  "language_info": {
   "codemirror_mode": {
    "name": "ipython",
    "version": 3
   },
   "file_extension": ".py",
   "mimetype": "text/x-python",
   "name": "python",
   "nbconvert_exporter": "python",
   "pygments_lexer": "ipython3",
   "version": "3.6.5"
  }
 },
 "nbformat": 4,
 "nbformat_minor": 2
}
